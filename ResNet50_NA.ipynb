{
  "cells": [
    {
      "cell_type": "code",
      "execution_count": null,
      "metadata": {
        "colab": {
          "base_uri": "https://localhost:8080/"
        },
        "id": "tiF8-5csPI16",
        "outputId": "8f2795c4-2925-42c9-ab76-08d9bf82d36f"
      },
      "outputs": [
        {
          "output_type": "stream",
          "name": "stdout",
          "text": [
            "Looking in indexes: https://pypi.org/simple, https://us-python.pkg.dev/colab-wheels/public/simple/\n",
            "Requirement already satisfied: mne in /usr/local/lib/python3.7/dist-packages (1.1.1)\n",
            "Requirement already satisfied: pooch>=1.5 in /usr/local/lib/python3.7/dist-packages (from mne) (1.6.0)\n",
            "Requirement already satisfied: numpy>=1.15.4 in /usr/local/lib/python3.7/dist-packages (from mne) (1.21.6)\n",
            "Requirement already satisfied: scipy>=1.1.0 in /usr/local/lib/python3.7/dist-packages (from mne) (1.7.3)\n",
            "Requirement already satisfied: packaging in /usr/local/lib/python3.7/dist-packages (from mne) (21.3)\n",
            "Requirement already satisfied: tqdm in /usr/local/lib/python3.7/dist-packages (from mne) (4.64.1)\n",
            "Requirement already satisfied: decorator in /usr/local/lib/python3.7/dist-packages (from mne) (4.4.2)\n",
            "Requirement already satisfied: jinja2 in /usr/local/lib/python3.7/dist-packages (from mne) (2.11.3)\n",
            "Requirement already satisfied: matplotlib in /usr/local/lib/python3.7/dist-packages (from mne) (3.2.2)\n",
            "Requirement already satisfied: appdirs>=1.3.0 in /usr/local/lib/python3.7/dist-packages (from pooch>=1.5->mne) (1.4.4)\n",
            "Requirement already satisfied: requests>=2.19.0 in /usr/local/lib/python3.7/dist-packages (from pooch>=1.5->mne) (2.23.0)\n",
            "Requirement already satisfied: pyparsing!=3.0.5,>=2.0.2 in /usr/local/lib/python3.7/dist-packages (from packaging->mne) (3.0.9)\n",
            "Requirement already satisfied: chardet<4,>=3.0.2 in /usr/local/lib/python3.7/dist-packages (from requests>=2.19.0->pooch>=1.5->mne) (3.0.4)\n",
            "Requirement already satisfied: idna<3,>=2.5 in /usr/local/lib/python3.7/dist-packages (from requests>=2.19.0->pooch>=1.5->mne) (2.10)\n",
            "Requirement already satisfied: certifi>=2017.4.17 in /usr/local/lib/python3.7/dist-packages (from requests>=2.19.0->pooch>=1.5->mne) (2022.6.15)\n",
            "Requirement already satisfied: urllib3!=1.25.0,!=1.25.1,<1.26,>=1.21.1 in /usr/local/lib/python3.7/dist-packages (from requests>=2.19.0->pooch>=1.5->mne) (1.24.3)\n",
            "Requirement already satisfied: MarkupSafe>=0.23 in /usr/local/lib/python3.7/dist-packages (from jinja2->mne) (2.0.1)\n",
            "Requirement already satisfied: kiwisolver>=1.0.1 in /usr/local/lib/python3.7/dist-packages (from matplotlib->mne) (1.4.4)\n",
            "Requirement already satisfied: cycler>=0.10 in /usr/local/lib/python3.7/dist-packages (from matplotlib->mne) (0.11.0)\n",
            "Requirement already satisfied: python-dateutil>=2.1 in /usr/local/lib/python3.7/dist-packages (from matplotlib->mne) (2.8.2)\n",
            "Requirement already satisfied: typing-extensions in /usr/local/lib/python3.7/dist-packages (from kiwisolver>=1.0.1->matplotlib->mne) (4.1.1)\n",
            "Requirement already satisfied: six>=1.5 in /usr/local/lib/python3.7/dist-packages (from python-dateutil>=2.1->matplotlib->mne) (1.15.0)\n"
          ]
        }
      ],
      "source": [
        "!pip install mne\n",
        "import mne\n",
        "import numpy as np\n",
        "from matplotlib import pyplot as plt\n",
        "from PIL import Image\n",
        "from sklearn.model_selection import train_test_split\n",
        "import tensorflow as tf\n",
        "from keras import layers\n",
        "from tensorflow.keras import utils as np_utils\n",
        "from tensorflow.keras.models import Model\n",
        "from tensorflow.keras.layers import Dense, Activation, Permute, Dropout\n",
        "from tensorflow.keras.layers import Conv2D, MaxPooling2D, AveragePooling2D\n",
        "from tensorflow.keras.layers import SeparableConv2D, DepthwiseConv2D\n",
        "from tensorflow.keras.layers import BatchNormalization\n",
        "from tensorflow.keras.layers import SpatialDropout2D\n",
        "from tensorflow.keras.regularizers import l1_l2\n",
        "from tensorflow.keras.layers import Input, Flatten\n",
        "from tensorflow.keras.constraints import max_norm\n",
        "from tensorflow.keras import backend as K"
      ]
    },
    {
      "cell_type": "code",
      "execution_count": null,
      "metadata": {
        "colab": {
          "base_uri": "https://localhost:8080/"
        },
        "id": "OVu8GHKaPlPR",
        "outputId": "6a3c5272-0ea2-4d69-cd1c-53c2b4d1ee16"
      },
      "outputs": [
        {
          "output_type": "stream",
          "name": "stdout",
          "text": [
            "Drive already mounted at /content/drive; to attempt to forcibly remount, call drive.mount(\"/content/drive\", force_remount=True).\n"
          ]
        }
      ],
      "source": [
        "from google.colab import drive\n",
        "drive.mount('/content/drive')\n",
        "file='/content/drive/MyDrive/BCICIV_2a_gdf/A09T.gdf'"
      ]
    },
    {
      "cell_type": "code",
      "execution_count": null,
      "metadata": {
        "colab": {
          "base_uri": "https://localhost:8080/"
        },
        "id": "Bnzb37qwPl34",
        "outputId": "6f3ce4c7-1f92-4402-8f61-2866592e84f1"
      },
      "outputs": [
        {
          "output_type": "stream",
          "name": "stderr",
          "text": [
            "/usr/local/lib/python3.7/dist-packages/mne/io/edf/edf.py:1155: DeprecationWarning: The binary mode of fromstring is deprecated, as it behaves surprisingly on unicode inputs. Use frombuffer instead\n",
            "  etmode = np.fromstring(etmode, UINT8).tolist()[0]\n",
            "/usr/lib/python3.7/contextlib.py:119: RuntimeWarning: Channel names are not unique, found duplicates for: {'EEG'}. Applying running numbers for duplicates.\n",
            "  next(self.gen)\n"
          ]
        },
        {
          "output_type": "stream",
          "name": "stdout",
          "text": [
            "Filtering raw data in 1 contiguous segment\n",
            "Setting up band-pass filter from 4 - 40 Hz\n",
            "\n",
            "FIR filter parameters\n",
            "---------------------\n",
            "Designing a one-pass, zero-phase, non-causal bandpass filter:\n",
            "- Windowed time-domain design (firwin) method\n",
            "- Hamming window with 0.0194 passband ripple and 53 dB stopband attenuation\n",
            "- Lower passband edge: 4.00\n",
            "- Lower transition bandwidth: 2.00 Hz (-6 dB cutoff frequency: 3.00 Hz)\n",
            "- Upper passband edge: 40.00 Hz\n",
            "- Upper transition bandwidth: 10.00 Hz (-6 dB cutoff frequency: 45.00 Hz)\n",
            "- Filter length: 413 samples (1.652 sec)\n",
            "\n"
          ]
        },
        {
          "output_type": "stream",
          "name": "stderr",
          "text": [
            "[Parallel(n_jobs=1)]: Using backend SequentialBackend with 1 concurrent workers.\n",
            "[Parallel(n_jobs=1)]: Done   1 out of   1 | elapsed:    0.0s remaining:    0.0s\n",
            "[Parallel(n_jobs=1)]: Done   2 out of   2 | elapsed:    0.1s remaining:    0.0s\n",
            "[Parallel(n_jobs=1)]: Done   3 out of   3 | elapsed:    0.1s remaining:    0.0s\n",
            "[Parallel(n_jobs=1)]: Done   4 out of   4 | elapsed:    0.1s remaining:    0.0s\n"
          ]
        },
        {
          "output_type": "stream",
          "name": "stdout",
          "text": [
            "(25, 673328)\n",
            "Used Annotations descriptions: ['1023', '1072', '276', '277', '32766', '768', '769', '770', '771', '772']\n"
          ]
        },
        {
          "output_type": "stream",
          "name": "stderr",
          "text": [
            "[Parallel(n_jobs=1)]: Done  25 out of  25 | elapsed:    0.6s finished\n"
          ]
        },
        {
          "output_type": "stream",
          "name": "stdout",
          "text": [
            "639\n",
            "(72, 22, 1000)\n",
            "(72, 22, 1000)\n",
            "(71, 22, 1000)\n",
            "(72, 22, 1000)\n",
            "(172, 22, 1000) (103, 22, 1000) (12, 22, 1000)\n"
          ]
        }
      ],
      "source": [
        "\n",
        "raw=mne.io.read_raw_gdf(file, preload=True, stim_channel='auto', verbose=False)\n",
        "# Filter settings\n",
        "low_cut = 4\n",
        "hi_cut  = 40\n",
        "\n",
        "raw_filt = raw.copy().filter(low_cut, hi_cut)\n",
        "#raw.filter(4,40.,fir_design='firwin')\n",
        "#raw.plot_psd(area_mode='range', tmax=10.0,average=False)\n",
        "rawdata = raw_filt.get_data()\n",
        "print(rawdata.shape)\n",
        "events, event_id = mne.events_from_annotations(raw_filt)\n",
        "print(events.shape[0])\n",
        "LeftHand = []\n",
        "RightHand = []\n",
        "BothFeet = []\n",
        "Tongue = []\n",
        "for i in range(events.shape[0]-1):\n",
        "  Data = rawdata[:,events[i,0]+125:events[i,0]+1125]\n",
        "  if (events[i,2] == 7):\n",
        "    LeftHand.append(Data)\n",
        "  elif (events[i,2] == 8):\n",
        "    RightHand.append(Data)\n",
        "  elif (events[i,2] == 9):\n",
        "     BothFeet.append(Data)\n",
        "  elif (events[i,2] == 10):\n",
        "     Tongue.append(Data)\n",
        "\n",
        "\n",
        "LeftHand= np.delete(LeftHand, [22,23,24], 1)\n",
        "RightHand = np.delete(RightHand, [22,23,24], 1)\n",
        "BothFeet = np.delete(BothFeet, [22,23,24], 1)\n",
        "Tongue= np.delete(Tongue, [22,23,24], 1)\n",
        "\n",
        "print(LeftHand.shape)\n",
        "print(RightHand.shape)\n",
        "print(BothFeet.shape)\n",
        "print(Tongue.shape)\n",
        "\n",
        "def standardlizeSig(data):\n",
        "  base = np.mean(data)\n",
        "  std = np.std(data)\n",
        "  standardlized_data = (data-base)/std\n",
        "  del base, std\n",
        "  return standardlized_data\n",
        "\n",
        "\n",
        "leftLabels = [0] * LeftHand.shape[0]\n",
        "rightLabels = [1] * RightHand.shape[0]\n",
        "footLabels = [2] * BothFeet.shape[0]\n",
        "tongueLabels = [3] * Tongue.shape[0]\n",
        "EntireClassLabels = leftLabels + rightLabels + footLabels + tongueLabels\n",
        "EntireClassLabels = np.array(EntireClassLabels)\n",
        "EntireClassData = np.concatenate((LeftHand, RightHand, BothFeet, Tongue))\n",
        "\n",
        "#Standardize EEG signal\n",
        "for i in range (EntireClassData.shape[0]):\n",
        "  EntireClassData[i]=standardlizeSig(EntireClassData[i,:,:])\n",
        "\n",
        "X_train, X_rem, Y_train, Y_rem = train_test_split(EntireClassData, EntireClassLabels, test_size=0.4, random_state=42)\n",
        "X_validate,X_test,Y_validate,Y_test  = train_test_split(X_rem, Y_rem, test_size=0.1,random_state=42)\n",
        "\n",
        "print (X_train.shape,X_validate.shape,X_test.shape)\n"
      ]
    },
    {
      "cell_type": "code",
      "source": [
        "cov=np.cov(X_train[1])\n",
        "fig=plt.imshow(cov, aspect='auto')\n",
        "plt.xticks(np.arange(0, 22, 1.0))\n",
        "plt.yticks(np.arange(0, 22, 1.0))\n",
        "plt.show()"
      ],
      "metadata": {
        "colab": {
          "base_uri": "https://localhost:8080/",
          "height": 265
        },
        "id": "C6_geb6AzfEw",
        "outputId": "4a44a980-094d-4b1b-e361-d22de737b8cd"
      },
      "execution_count": null,
      "outputs": [
        {
          "output_type": "display_data",
          "data": {
            "text/plain": [
              "<Figure size 432x288 with 1 Axes>"
            ],
            "image/png": "[encoded data removed]"
          },
          "metadata": {
            "needs_background": "light"
          }
        }
      ]
    },
    {
      "cell_type": "code",
      "execution_count": null,
      "metadata": {
        "colab": {
          "base_uri": "https://localhost:8080/"
        },
        "id": "Iu167aHrXkpb",
        "outputId": "f4446a87-bbe6-43ea-c4b4-2de8019fbcd1"
      },
      "outputs": [
        {
          "output_type": "stream",
          "name": "stdout",
          "text": [
            "(172, 22, 1000) [1 0 1 1 1 1 2 1 2 1 2 2 2 3 1 1 0 3 3 1 2 3 3 3 2 0 2 1 2 0 0 0 1 3 3 0 1\n",
            " 2 2 0 3 2 1 0 3 1 2 0 3 1 3 3 1 0 0 2 2 2 3 0 3 3 0 3 0 1 0 2 2 3 3 1 0 1\n",
            " 1 3 3 0 3 0 0 2 2 0 1 3 2 0 3 3 1 0 3 3 2 0 0 1 3 3 2 2 0 3 2 2 3 3 0 1 0\n",
            " 1 0 3 1 0 2 1 2 0 3 0 2 2 3 1 1 1 1 0 1 0 3 0 0 1 1 0 2 1 3 1 3 3 0 0 2 2\n",
            " 2 2 0 0 3 3 0 2 2 3 2 1 2 1 1 2 1 3 0 2 0 1 3 1]\n",
            "(344,) (344, 22, 1000)\n"
          ]
        }
      ],
      "source": [
        "mu=0.0 # mean value\n",
        "std =0.5 # standard deviation value\n",
        "def gaussian_noise(x,mu,std):\n",
        "    noise = np.random.normal(mu, std, size = x.shape)\n",
        "    x_noisy = x + noise\n",
        "    return x_noisy \n",
        "\n",
        "TrainData_temp=[]\n",
        "TrainData_temp_label=[]\n",
        "for i in range(X_train.shape[0]):\n",
        "  NoisyData=gaussian_noise(X_train[i],mu,std)\n",
        "  TrainData_temp.append(NoisyData)\n",
        "  TrainData_temp_label.append(Y_train[i])\n",
        "\n",
        "\n",
        "TrainData_temp=np.array(TrainData_temp)\n",
        "TrainData_temp_label=np.array(TrainData_temp_label)\n",
        "print(TrainData_temp.shape,TrainData_temp_label)\n",
        "\n",
        "\n",
        "TrainData=np.concatenate((X_train,TrainData_temp))\n",
        "TrainLabel=np.concatenate((Y_train,TrainData_temp_label))\n",
        "print(TrainLabel.shape, TrainData.shape)\n",
        "\n"
      ]
    },
    {
      "cell_type": "code",
      "source": [
        "import cv2\n",
        "#Cross covariance matrix\n",
        "TrainData_cov=[]\n",
        "for i in range(TrainData.shape[0]):\n",
        "  cov=np.cov(TrainData[i])\n",
        "  TrainData_cov.append(cov)\n",
        "TrainData_cov=np.array(TrainData_cov)\n",
        "print(TrainData_cov.shape)\n",
        "\n",
        "#Adding new dimension and repeating the data (22x22) three times\n",
        "TrainData_new_dim = np.repeat(TrainData_cov[..., np.newaxis], 3, -1)\n",
        "\n",
        "\n",
        "#Creating an empty array with the dimension (number of trials,32,32,3)\n",
        "TrainData_resize = np.ndarray(shape=(TrainData_new_dim.shape[0],32,32,3))\n",
        "\n",
        "#Resize all the trial to shape (32,32,3) from (22,22,3)\n",
        "for i in range(TrainData_new_dim.shape[0]):\n",
        "    TrainData_resize[i] = cv2.resize(TrainData_new_dim[i], (32,32),interpolation = cv2.INTER_AREA)\n",
        "print(TrainData_resize.shape)\n",
        "\n"
      ],
      "metadata": {
        "colab": {
          "base_uri": "https://localhost:8080/"
        },
        "id": "hPahtecGrLxQ",
        "outputId": "f2ca40fb-8596-4627-dcde-91dfe49f787c"
      },
      "execution_count": null,
      "outputs": [
        {
          "output_type": "stream",
          "name": "stdout",
          "text": [
            "(344, 22, 22)\n",
            "(344, 32, 32, 3)\n"
          ]
        }
      ]
    },
    {
      "cell_type": "code",
      "source": [
        "IMG_HEIGHT=32\n",
        "IMG_WIDTH=32\n",
        "CHANNAL=3\n",
        "ValidData_cov=[]\n",
        "for i in range(X_validate.shape[0]):\n",
        "  cov=np.cov(X_validate[i])\n",
        "  ValidData_cov.append(cov)\n",
        "ValidData_cov=np.array(ValidData_cov)\n",
        "print(ValidData_cov.shape)\n",
        "rgb_valid_batch = np.repeat(ValidData_cov[..., np.newaxis], 3, -1)\n",
        "print(rgb_valid_batch.shape)\n",
        "resized_valid = np.ndarray(shape=(rgb_valid_batch.shape[0],IMG_HEIGHT,IMG_WIDTH,CHANNAL))\n",
        "for rec in range(rgb_valid_batch.shape[0]):\n",
        "    resized_valid[rec] = cv2.resize(rgb_valid_batch[rec], (IMG_HEIGHT,IMG_WIDTH),interpolation = cv2.INTER_AREA)\n",
        "print(resized_valid.shape)"
      ],
      "metadata": {
        "colab": {
          "base_uri": "https://localhost:8080/"
        },
        "id": "-zbqo8ULt8gT",
        "outputId": "84320333-448e-472d-cb0d-125520ea6ff7"
      },
      "execution_count": null,
      "outputs": [
        {
          "output_type": "stream",
          "name": "stdout",
          "text": [
            "(103, 22, 22)\n",
            "(103, 22, 22, 3)\n",
            "(103, 32, 32, 3)\n"
          ]
        }
      ]
    },
    {
      "cell_type": "code",
      "source": [
        "TestData_cov=[]\n",
        "for i in range(X_test.shape[0]):\n",
        "  cov=np.cov(X_test[i])\n",
        "  TestData_cov.append(cov)\n",
        "TestData_cov=np.array(TestData_cov)\n",
        "print(TestData_cov.shape)\n",
        "rgb_test_batch = np.repeat(TestData_cov[..., np.newaxis], 3, -1)\n",
        "print(rgb_test_batch.shape)\n",
        "resized_test = np.ndarray(shape=(rgb_test_batch.shape[0],IMG_HEIGHT,IMG_WIDTH,CHANNAL))\n",
        "for rec in range(rgb_test_batch.shape[0]):\n",
        "    resized_test[rec] = cv2.resize(rgb_test_batch[rec], (IMG_HEIGHT,IMG_WIDTH),interpolation = cv2.INTER_AREA)\n",
        "print(resized_test.shape)"
      ],
      "metadata": {
        "colab": {
          "base_uri": "https://localhost:8080/"
        },
        "id": "8siwGyDfuv3C",
        "outputId": "12a7b64b-d656-4da2-f8ee-962e39ccfc21"
      },
      "execution_count": null,
      "outputs": [
        {
          "output_type": "stream",
          "name": "stdout",
          "text": [
            "(12, 22, 22)\n",
            "(12, 22, 22, 3)\n",
            "(12, 32, 32, 3)\n"
          ]
        }
      ]
    },
    {
      "cell_type": "code",
      "source": [
        "TrainLabel1     = TrainLabel\n",
        "ValidLabel1  = Y_validate\n",
        "TestLabel1  = Y_test\n"
      ],
      "metadata": {
        "id": "_M6d60dPxgS2"
      },
      "execution_count": null,
      "outputs": []
    },
    {
      "cell_type": "code",
      "execution_count": null,
      "metadata": {
        "id": "1nAw10QDzJrc"
      },
      "outputs": [],
      "source": [
        "from tensorflow.keras.models import Sequential\n",
        "resnet_model = Sequential()\n",
        "\n",
        "pretrained_model= tf.keras.applications.ResNet50(include_top=False,\n",
        "                   input_shape=(32,32,3),\n",
        "                   pooling='avg',classes=4,\n",
        "                   weights='imagenet')\n",
        "for layer in pretrained_model.layers:\n",
        "        layer.trainable=False\n",
        "resnet_model.add(pretrained_model)\n"
      ]
    },
    {
      "cell_type": "code",
      "source": [
        "resnet_model.add(Flatten())\n",
        "#resnet_model.add(Dense(512, activation='relu'))\n",
        "resnet_model.add(Dense(128, activation='relu'))\n",
        "resnet_model.add(Dense(64, activation='relu'))\n",
        "resnet_model.add(Dense(4, activation='softmax'))"
      ],
      "metadata": {
        "id": "dqXBzJ2cwGyk"
      },
      "execution_count": null,
      "outputs": []
    },
    {
      "cell_type": "code",
      "execution_count": null,
      "metadata": {
        "id": "_1WvbCi6WVcn",
        "colab": {
          "base_uri": "https://localhost:8080/"
        },
        "outputId": "5f718a7e-c87a-440c-f3c4-814e4577d83f"
      },
      "outputs": [
        {
          "output_type": "stream",
          "name": "stdout",
          "text": [
            "Epoch 1/250\n"
          ]
        },
        {
          "output_type": "stream",
          "name": "stderr",
          "text": [
            "/usr/local/lib/python3.7/dist-packages/tensorflow/python/util/dispatch.py:1082: UserWarning: \"`sparse_categorical_crossentropy` received `from_logits=True`, but the `output` argument was produced by a sigmoid or softmax activation and thus does not represent logits. Was this intended?\"\n",
            "  return dispatch_target(*args, **kwargs)\n"
          ]
        },
        {
          "output_type": "stream",
          "name": "stdout",
          "text": [
            "6/6 [==============================] - 9s 629ms/step - loss: 1.6576 - accuracy: 0.2762 - val_loss: 1.4752 - val_accuracy: 0.2136\n",
            "Epoch 2/250\n",
            "6/6 [==============================] - 0s 35ms/step - loss: 1.4239 - accuracy: 0.2645 - val_loss: 1.4065 - val_accuracy: 0.2524\n",
            "Epoch 3/250\n",
            "6/6 [==============================] - 0s 40ms/step - loss: 1.4302 - accuracy: 0.2355 - val_loss: 1.4015 - val_accuracy: 0.2524\n",
            "Epoch 4/250\n",
            "6/6 [==============================] - 0s 31ms/step - loss: 1.4150 - accuracy: 0.2267 - val_loss: 1.3969 - val_accuracy: 0.3204\n",
            "Epoch 5/250\n",
            "6/6 [==============================] - 0s 41ms/step - loss: 1.3903 - accuracy: 0.2733 - val_loss: 1.3887 - val_accuracy: 0.2233\n",
            "Epoch 6/250\n",
            "6/6 [==============================] - 0s 41ms/step - loss: 1.3881 - accuracy: 0.2791 - val_loss: 1.3892 - val_accuracy: 0.2524\n",
            "Epoch 7/250\n",
            "6/6 [==============================] - 0s 39ms/step - loss: 1.4084 - accuracy: 0.2471 - val_loss: 1.3887 - val_accuracy: 0.2524\n",
            "Epoch 8/250\n",
            "6/6 [==============================] - 0s 34ms/step - loss: 1.3944 - accuracy: 0.2587 - val_loss: 1.4704 - val_accuracy: 0.3204\n",
            "Epoch 9/250\n",
            "6/6 [==============================] - 0s 41ms/step - loss: 1.4257 - accuracy: 0.2965 - val_loss: 1.4243 - val_accuracy: 0.2621\n",
            "Epoch 10/250\n",
            "6/6 [==============================] - 0s 38ms/step - loss: 1.4536 - accuracy: 0.1977 - val_loss: 1.4254 - val_accuracy: 0.2524\n",
            "Epoch 11/250\n",
            "6/6 [==============================] - 0s 34ms/step - loss: 1.3985 - accuracy: 0.2616 - val_loss: 1.3892 - val_accuracy: 0.2913\n",
            "Epoch 12/250\n",
            "6/6 [==============================] - 0s 39ms/step - loss: 1.3965 - accuracy: 0.2500 - val_loss: 1.3989 - val_accuracy: 0.2524\n",
            "Epoch 13/250\n",
            "6/6 [==============================] - 0s 47ms/step - loss: 1.4014 - accuracy: 0.2529 - val_loss: 1.4069 - val_accuracy: 0.2330\n",
            "Epoch 14/250\n",
            "6/6 [==============================] - 0s 44ms/step - loss: 1.4225 - accuracy: 0.3052 - val_loss: 1.4007 - val_accuracy: 0.2524\n",
            "Epoch 15/250\n",
            "6/6 [==============================] - 0s 32ms/step - loss: 1.4160 - accuracy: 0.2965 - val_loss: 1.4003 - val_accuracy: 0.3010\n",
            "Epoch 16/250\n",
            "6/6 [==============================] - 0s 42ms/step - loss: 1.4251 - accuracy: 0.2674 - val_loss: 1.3745 - val_accuracy: 0.2524\n",
            "Epoch 17/250\n",
            "6/6 [==============================] - 0s 34ms/step - loss: 1.4215 - accuracy: 0.2645 - val_loss: 1.3759 - val_accuracy: 0.2621\n",
            "Epoch 18/250\n",
            "6/6 [==============================] - 0s 33ms/step - loss: 1.4338 - accuracy: 0.2645 - val_loss: 1.3899 - val_accuracy: 0.3010\n",
            "Epoch 19/250\n",
            "6/6 [==============================] - 0s 50ms/step - loss: 1.3749 - accuracy: 0.3023 - val_loss: 1.3930 - val_accuracy: 0.2621\n",
            "Epoch 20/250\n",
            "6/6 [==============================] - 0s 59ms/step - loss: 1.3964 - accuracy: 0.2791 - val_loss: 1.3986 - val_accuracy: 0.2427\n",
            "Epoch 21/250\n",
            "6/6 [==============================] - 0s 43ms/step - loss: 1.3820 - accuracy: 0.3285 - val_loss: 1.3700 - val_accuracy: 0.3592\n",
            "Epoch 22/250\n",
            "6/6 [==============================] - 0s 53ms/step - loss: 1.4207 - accuracy: 0.2471 - val_loss: 1.3781 - val_accuracy: 0.2621\n",
            "Epoch 23/250\n",
            "6/6 [==============================] - 0s 52ms/step - loss: 1.3786 - accuracy: 0.2936 - val_loss: 1.3703 - val_accuracy: 0.3398\n",
            "Epoch 24/250\n",
            "6/6 [==============================] - 0s 45ms/step - loss: 1.3625 - accuracy: 0.3110 - val_loss: 1.3667 - val_accuracy: 0.2816\n",
            "Epoch 25/250\n",
            "6/6 [==============================] - 0s 56ms/step - loss: 1.3720 - accuracy: 0.2645 - val_loss: 1.3739 - val_accuracy: 0.3107\n",
            "Epoch 26/250\n",
            "6/6 [==============================] - 0s 46ms/step - loss: 1.3645 - accuracy: 0.2849 - val_loss: 1.3736 - val_accuracy: 0.2330\n",
            "Epoch 27/250\n",
            "6/6 [==============================] - 0s 44ms/step - loss: 1.3924 - accuracy: 0.2558 - val_loss: 1.3812 - val_accuracy: 0.2524\n",
            "Epoch 28/250\n",
            "6/6 [==============================] - 0s 72ms/step - loss: 1.3642 - accuracy: 0.3198 - val_loss: 1.3788 - val_accuracy: 0.3010\n",
            "Epoch 29/250\n",
            "6/6 [==============================] - 0s 48ms/step - loss: 1.3642 - accuracy: 0.2849 - val_loss: 1.3789 - val_accuracy: 0.2913\n",
            "Epoch 30/250\n",
            "6/6 [==============================] - 0s 55ms/step - loss: 1.3651 - accuracy: 0.3169 - val_loss: 1.3622 - val_accuracy: 0.3010\n",
            "Epoch 31/250\n",
            "6/6 [==============================] - 0s 44ms/step - loss: 1.3657 - accuracy: 0.2878 - val_loss: 1.3708 - val_accuracy: 0.3107\n",
            "Epoch 32/250\n",
            "6/6 [==============================] - 0s 47ms/step - loss: 1.3551 - accuracy: 0.3488 - val_loss: 1.3595 - val_accuracy: 0.3204\n",
            "Epoch 33/250\n",
            "6/6 [==============================] - 0s 38ms/step - loss: 1.3590 - accuracy: 0.2965 - val_loss: 1.3612 - val_accuracy: 0.3689\n",
            "Epoch 34/250\n",
            "6/6 [==============================] - 0s 48ms/step - loss: 1.3514 - accuracy: 0.3110 - val_loss: 1.3581 - val_accuracy: 0.3398\n",
            "Epoch 35/250\n",
            "6/6 [==============================] - 0s 45ms/step - loss: 1.3550 - accuracy: 0.3110 - val_loss: 1.3580 - val_accuracy: 0.3592\n",
            "Epoch 36/250\n",
            "6/6 [==============================] - 0s 47ms/step - loss: 1.3610 - accuracy: 0.3401 - val_loss: 1.3551 - val_accuracy: 0.3592\n",
            "Epoch 37/250\n",
            "6/6 [==============================] - 0s 42ms/step - loss: 1.3859 - accuracy: 0.2762 - val_loss: 1.3566 - val_accuracy: 0.3301\n",
            "Epoch 38/250\n",
            "6/6 [==============================] - 0s 40ms/step - loss: 1.3604 - accuracy: 0.2965 - val_loss: 1.3639 - val_accuracy: 0.3495\n",
            "Epoch 39/250\n",
            "6/6 [==============================] - 0s 42ms/step - loss: 1.3474 - accuracy: 0.3547 - val_loss: 1.3553 - val_accuracy: 0.3398\n",
            "Epoch 40/250\n",
            "6/6 [==============================] - 0s 33ms/step - loss: 1.3498 - accuracy: 0.3517 - val_loss: 1.3757 - val_accuracy: 0.3010\n",
            "Epoch 41/250\n",
            "6/6 [==============================] - 0s 37ms/step - loss: 1.3522 - accuracy: 0.3459 - val_loss: 1.3515 - val_accuracy: 0.3301\n",
            "Epoch 42/250\n",
            "6/6 [==============================] - 0s 35ms/step - loss: 1.3450 - accuracy: 0.3430 - val_loss: 1.3564 - val_accuracy: 0.3689\n",
            "Epoch 43/250\n",
            "6/6 [==============================] - 0s 32ms/step - loss: 1.3414 - accuracy: 0.3547 - val_loss: 1.3503 - val_accuracy: 0.3204\n",
            "Epoch 44/250\n",
            "6/6 [==============================] - 0s 32ms/step - loss: 1.3437 - accuracy: 0.2936 - val_loss: 1.3506 - val_accuracy: 0.3689\n",
            "Epoch 45/250\n",
            "6/6 [==============================] - 0s 31ms/step - loss: 1.3340 - accuracy: 0.3227 - val_loss: 1.3446 - val_accuracy: 0.3495\n",
            "Epoch 46/250\n",
            "6/6 [==============================] - 0s 34ms/step - loss: 1.3428 - accuracy: 0.3140 - val_loss: 1.3555 - val_accuracy: 0.3398\n",
            "Epoch 47/250\n",
            "6/6 [==============================] - 0s 40ms/step - loss: 1.3321 - accuracy: 0.3634 - val_loss: 1.3497 - val_accuracy: 0.3883\n",
            "Epoch 48/250\n",
            "6/6 [==============================] - 0s 55ms/step - loss: 1.3391 - accuracy: 0.3430 - val_loss: 1.3462 - val_accuracy: 0.3786\n",
            "Epoch 49/250\n",
            "6/6 [==============================] - 0s 43ms/step - loss: 1.3359 - accuracy: 0.3576 - val_loss: 1.3459 - val_accuracy: 0.3495\n",
            "Epoch 50/250\n",
            "6/6 [==============================] - 0s 55ms/step - loss: 1.3365 - accuracy: 0.3721 - val_loss: 1.3418 - val_accuracy: 0.3689\n",
            "Epoch 51/250\n",
            "6/6 [==============================] - 0s 44ms/step - loss: 1.3585 - accuracy: 0.2791 - val_loss: 1.3392 - val_accuracy: 0.3398\n",
            "Epoch 52/250\n",
            "6/6 [==============================] - 0s 48ms/step - loss: 1.3442 - accuracy: 0.3256 - val_loss: 1.3652 - val_accuracy: 0.3398\n",
            "Epoch 53/250\n",
            "6/6 [==============================] - 0s 36ms/step - loss: 1.3207 - accuracy: 0.3721 - val_loss: 1.3455 - val_accuracy: 0.3107\n",
            "Epoch 54/250\n",
            "6/6 [==============================] - 0s 45ms/step - loss: 1.3345 - accuracy: 0.3459 - val_loss: 1.4315 - val_accuracy: 0.2718\n",
            "Epoch 55/250\n",
            "6/6 [==============================] - 0s 47ms/step - loss: 1.3572 - accuracy: 0.2965 - val_loss: 1.4030 - val_accuracy: 0.2524\n",
            "Epoch 56/250\n",
            "6/6 [==============================] - 0s 39ms/step - loss: 1.3964 - accuracy: 0.2587 - val_loss: 1.3560 - val_accuracy: 0.3107\n",
            "Epoch 57/250\n",
            "6/6 [==============================] - 0s 41ms/step - loss: 1.3674 - accuracy: 0.3081 - val_loss: 1.3493 - val_accuracy: 0.3301\n",
            "Epoch 58/250\n",
            "6/6 [==============================] - 0s 44ms/step - loss: 1.3830 - accuracy: 0.2994 - val_loss: 1.3444 - val_accuracy: 0.3689\n",
            "Epoch 59/250\n",
            "6/6 [==============================] - 0s 42ms/step - loss: 1.3663 - accuracy: 0.3401 - val_loss: 1.3587 - val_accuracy: 0.3689\n",
            "Epoch 60/250\n",
            "6/6 [==============================] - 0s 36ms/step - loss: 1.3237 - accuracy: 0.3547 - val_loss: 1.3432 - val_accuracy: 0.3398\n",
            "Epoch 61/250\n",
            "6/6 [==============================] - 0s 40ms/step - loss: 1.3373 - accuracy: 0.2936 - val_loss: 1.3512 - val_accuracy: 0.3592\n",
            "Epoch 62/250\n",
            "6/6 [==============================] - 0s 49ms/step - loss: 1.3257 - accuracy: 0.3517 - val_loss: 1.3331 - val_accuracy: 0.3592\n",
            "Epoch 63/250\n",
            "6/6 [==============================] - 0s 49ms/step - loss: 1.3436 - accuracy: 0.3314 - val_loss: 1.3498 - val_accuracy: 0.3107\n",
            "Epoch 64/250\n",
            "6/6 [==============================] - 0s 33ms/step - loss: 1.3296 - accuracy: 0.3459 - val_loss: 1.3885 - val_accuracy: 0.3204\n",
            "Epoch 65/250\n",
            "6/6 [==============================] - 0s 40ms/step - loss: 1.3476 - accuracy: 0.3459 - val_loss: 1.3484 - val_accuracy: 0.2913\n",
            "Epoch 66/250\n",
            "6/6 [==============================] - 0s 42ms/step - loss: 1.3333 - accuracy: 0.3517 - val_loss: 1.3506 - val_accuracy: 0.3107\n",
            "Epoch 67/250\n",
            "6/6 [==============================] - 0s 57ms/step - loss: 1.3050 - accuracy: 0.3866 - val_loss: 1.3408 - val_accuracy: 0.3107\n",
            "Epoch 68/250\n",
            "6/6 [==============================] - 0s 57ms/step - loss: 1.3306 - accuracy: 0.3314 - val_loss: 1.3404 - val_accuracy: 0.3495\n",
            "Epoch 69/250\n",
            "6/6 [==============================] - 0s 62ms/step - loss: 1.3198 - accuracy: 0.3634 - val_loss: 1.3266 - val_accuracy: 0.3301\n",
            "Epoch 70/250\n",
            "6/6 [==============================] - 0s 35ms/step - loss: 1.3388 - accuracy: 0.3430 - val_loss: 1.3308 - val_accuracy: 0.3398\n",
            "Epoch 71/250\n",
            "6/6 [==============================] - 0s 38ms/step - loss: 1.3393 - accuracy: 0.3576 - val_loss: 1.3336 - val_accuracy: 0.3981\n",
            "Epoch 72/250\n",
            "6/6 [==============================] - 0s 46ms/step - loss: 1.3087 - accuracy: 0.3547 - val_loss: 1.3305 - val_accuracy: 0.3883\n",
            "Epoch 73/250\n",
            "6/6 [==============================] - 0s 41ms/step - loss: 1.3093 - accuracy: 0.3459 - val_loss: 1.3255 - val_accuracy: 0.3786\n",
            "Epoch 74/250\n",
            "6/6 [==============================] - 0s 36ms/step - loss: 1.3209 - accuracy: 0.3430 - val_loss: 1.3313 - val_accuracy: 0.3010\n",
            "Epoch 75/250\n",
            "6/6 [==============================] - 0s 41ms/step - loss: 1.3207 - accuracy: 0.3517 - val_loss: 1.3423 - val_accuracy: 0.3786\n",
            "Epoch 76/250\n",
            "6/6 [==============================] - 0s 48ms/step - loss: 1.2987 - accuracy: 0.3750 - val_loss: 1.3432 - val_accuracy: 0.3592\n",
            "Epoch 77/250\n",
            "6/6 [==============================] - 0s 41ms/step - loss: 1.3131 - accuracy: 0.3372 - val_loss: 1.3556 - val_accuracy: 0.3010\n",
            "Epoch 78/250\n",
            "6/6 [==============================] - 0s 40ms/step - loss: 1.3170 - accuracy: 0.3459 - val_loss: 1.3243 - val_accuracy: 0.3398\n",
            "Epoch 79/250\n",
            "6/6 [==============================] - 0s 42ms/step - loss: 1.3312 - accuracy: 0.3401 - val_loss: 1.3347 - val_accuracy: 0.3592\n",
            "Epoch 80/250\n",
            "6/6 [==============================] - 0s 32ms/step - loss: 1.3204 - accuracy: 0.3576 - val_loss: 1.3537 - val_accuracy: 0.3010\n",
            "Epoch 81/250\n",
            "6/6 [==============================] - 0s 25ms/step - loss: 1.3078 - accuracy: 0.3779 - val_loss: 1.3687 - val_accuracy: 0.3010\n",
            "Epoch 82/250\n",
            "6/6 [==============================] - 0s 24ms/step - loss: 1.3147 - accuracy: 0.3372 - val_loss: 1.3478 - val_accuracy: 0.3107\n",
            "Epoch 83/250\n",
            "6/6 [==============================] - 0s 26ms/step - loss: 1.3067 - accuracy: 0.3634 - val_loss: 1.3195 - val_accuracy: 0.3689\n",
            "Epoch 84/250\n",
            "6/6 [==============================] - 0s 31ms/step - loss: 1.3076 - accuracy: 0.3605 - val_loss: 1.3363 - val_accuracy: 0.3883\n",
            "Epoch 85/250\n",
            "6/6 [==============================] - 0s 26ms/step - loss: 1.3043 - accuracy: 0.3605 - val_loss: 1.3155 - val_accuracy: 0.3786\n",
            "Epoch 86/250\n",
            "6/6 [==============================] - 0s 26ms/step - loss: 1.3030 - accuracy: 0.3401 - val_loss: 1.3254 - val_accuracy: 0.3981\n",
            "Epoch 87/250\n",
            "6/6 [==============================] - 0s 25ms/step - loss: 1.3150 - accuracy: 0.3401 - val_loss: 1.3308 - val_accuracy: 0.3495\n",
            "Epoch 88/250\n",
            "6/6 [==============================] - 0s 33ms/step - loss: 1.2959 - accuracy: 0.3663 - val_loss: 1.3364 - val_accuracy: 0.3689\n",
            "Epoch 89/250\n",
            "6/6 [==============================] - 0s 26ms/step - loss: 1.2913 - accuracy: 0.3866 - val_loss: 1.3161 - val_accuracy: 0.3786\n",
            "Epoch 90/250\n",
            "6/6 [==============================] - 0s 26ms/step - loss: 1.2915 - accuracy: 0.3547 - val_loss: 1.3372 - val_accuracy: 0.4078\n",
            "Epoch 91/250\n",
            "6/6 [==============================] - 0s 25ms/step - loss: 1.2944 - accuracy: 0.3895 - val_loss: 1.3263 - val_accuracy: 0.3107\n",
            "Epoch 92/250\n",
            "6/6 [==============================] - 0s 25ms/step - loss: 1.2974 - accuracy: 0.3547 - val_loss: 1.3120 - val_accuracy: 0.3398\n",
            "Epoch 93/250\n",
            "6/6 [==============================] - 0s 32ms/step - loss: 1.2813 - accuracy: 0.3837 - val_loss: 1.3283 - val_accuracy: 0.3689\n",
            "Epoch 94/250\n",
            "6/6 [==============================] - 0s 33ms/step - loss: 1.2882 - accuracy: 0.3721 - val_loss: 1.3187 - val_accuracy: 0.3398\n",
            "Epoch 95/250\n",
            "6/6 [==============================] - 0s 26ms/step - loss: 1.2923 - accuracy: 0.3547 - val_loss: 1.3138 - val_accuracy: 0.3883\n",
            "Epoch 96/250\n",
            "6/6 [==============================] - 0s 25ms/step - loss: 1.2792 - accuracy: 0.3779 - val_loss: 1.3434 - val_accuracy: 0.3301\n",
            "Epoch 97/250\n",
            "6/6 [==============================] - 0s 26ms/step - loss: 1.2946 - accuracy: 0.3692 - val_loss: 1.3194 - val_accuracy: 0.3592\n",
            "Epoch 98/250\n",
            "6/6 [==============================] - 0s 25ms/step - loss: 1.2777 - accuracy: 0.3837 - val_loss: 1.3089 - val_accuracy: 0.3981\n",
            "Epoch 99/250\n",
            "6/6 [==============================] - 0s 25ms/step - loss: 1.2765 - accuracy: 0.3895 - val_loss: 1.3075 - val_accuracy: 0.3689\n",
            "Epoch 100/250\n",
            "6/6 [==============================] - 0s 26ms/step - loss: 1.2697 - accuracy: 0.3953 - val_loss: 1.3316 - val_accuracy: 0.3786\n",
            "Epoch 101/250\n",
            "6/6 [==============================] - 0s 25ms/step - loss: 1.2876 - accuracy: 0.3924 - val_loss: 1.3265 - val_accuracy: 0.3301\n",
            "Epoch 102/250\n",
            "6/6 [==============================] - 0s 28ms/step - loss: 1.2854 - accuracy: 0.3430 - val_loss: 1.3686 - val_accuracy: 0.2816\n",
            "Epoch 103/250\n",
            "6/6 [==============================] - 0s 25ms/step - loss: 1.2953 - accuracy: 0.3517 - val_loss: 1.3062 - val_accuracy: 0.4175\n",
            "Epoch 104/250\n",
            "6/6 [==============================] - 0s 25ms/step - loss: 1.2709 - accuracy: 0.3692 - val_loss: 1.3234 - val_accuracy: 0.3786\n",
            "Epoch 105/250\n",
            "6/6 [==============================] - 0s 25ms/step - loss: 1.2974 - accuracy: 0.3808 - val_loss: 1.3062 - val_accuracy: 0.3689\n",
            "Epoch 106/250\n",
            "6/6 [==============================] - 0s 32ms/step - loss: 1.2998 - accuracy: 0.3576 - val_loss: 1.3727 - val_accuracy: 0.3689\n",
            "Epoch 107/250\n",
            "6/6 [==============================] - 0s 25ms/step - loss: 1.2945 - accuracy: 0.3953 - val_loss: 1.3124 - val_accuracy: 0.4078\n",
            "Epoch 108/250\n",
            "6/6 [==============================] - 0s 26ms/step - loss: 1.2744 - accuracy: 0.3866 - val_loss: 1.3484 - val_accuracy: 0.3398\n",
            "Epoch 109/250\n",
            "6/6 [==============================] - 0s 26ms/step - loss: 1.3128 - accuracy: 0.3837 - val_loss: 1.3337 - val_accuracy: 0.3981\n",
            "Epoch 110/250\n",
            "6/6 [==============================] - 0s 25ms/step - loss: 1.2970 - accuracy: 0.3953 - val_loss: 1.3227 - val_accuracy: 0.3689\n",
            "Epoch 111/250\n",
            "6/6 [==============================] - 0s 25ms/step - loss: 1.3018 - accuracy: 0.3750 - val_loss: 1.3504 - val_accuracy: 0.3301\n",
            "Epoch 112/250\n",
            "6/6 [==============================] - 0s 25ms/step - loss: 1.3026 - accuracy: 0.3983 - val_loss: 1.2999 - val_accuracy: 0.3786\n",
            "Epoch 113/250\n",
            "6/6 [==============================] - 0s 32ms/step - loss: 1.2775 - accuracy: 0.3808 - val_loss: 1.3173 - val_accuracy: 0.3398\n",
            "Epoch 114/250\n",
            "6/6 [==============================] - 0s 27ms/step - loss: 1.2856 - accuracy: 0.3721 - val_loss: 1.3146 - val_accuracy: 0.3592\n",
            "Epoch 115/250\n",
            "6/6 [==============================] - 0s 26ms/step - loss: 1.3187 - accuracy: 0.3459 - val_loss: 1.3078 - val_accuracy: 0.3883\n",
            "Epoch 116/250\n",
            "6/6 [==============================] - 0s 26ms/step - loss: 1.3293 - accuracy: 0.3343 - val_loss: 1.3290 - val_accuracy: 0.3495\n",
            "Epoch 117/250\n",
            "6/6 [==============================] - 0s 26ms/step - loss: 1.2983 - accuracy: 0.3488 - val_loss: 1.3293 - val_accuracy: 0.3689\n",
            "Epoch 118/250\n",
            "6/6 [==============================] - 0s 25ms/step - loss: 1.3076 - accuracy: 0.3750 - val_loss: 1.3106 - val_accuracy: 0.3883\n",
            "Epoch 119/250\n",
            "6/6 [==============================] - 0s 26ms/step - loss: 1.3117 - accuracy: 0.3314 - val_loss: 1.3213 - val_accuracy: 0.3495\n",
            "Epoch 120/250\n",
            "6/6 [==============================] - 0s 24ms/step - loss: 1.2906 - accuracy: 0.4128 - val_loss: 1.3188 - val_accuracy: 0.3786\n",
            "Epoch 121/250\n",
            "6/6 [==============================] - 0s 32ms/step - loss: 1.3121 - accuracy: 0.3663 - val_loss: 1.3000 - val_accuracy: 0.3592\n",
            "Epoch 122/250\n",
            "6/6 [==============================] - 0s 25ms/step - loss: 1.2961 - accuracy: 0.3750 - val_loss: 1.3451 - val_accuracy: 0.3592\n",
            "Epoch 123/250\n",
            "6/6 [==============================] - 0s 25ms/step - loss: 1.2760 - accuracy: 0.3895 - val_loss: 1.3121 - val_accuracy: 0.3689\n",
            "Epoch 124/250\n",
            "6/6 [==============================] - 0s 26ms/step - loss: 1.2584 - accuracy: 0.4012 - val_loss: 1.3149 - val_accuracy: 0.3883\n",
            "Epoch 125/250\n",
            "6/6 [==============================] - 0s 25ms/step - loss: 1.2586 - accuracy: 0.3924 - val_loss: 1.2973 - val_accuracy: 0.3495\n",
            "Epoch 126/250\n",
            "6/6 [==============================] - 0s 26ms/step - loss: 1.2577 - accuracy: 0.3983 - val_loss: 1.3353 - val_accuracy: 0.3883\n",
            "Epoch 127/250\n",
            "6/6 [==============================] - 0s 25ms/step - loss: 1.2925 - accuracy: 0.3895 - val_loss: 1.3671 - val_accuracy: 0.2816\n",
            "Epoch 128/250\n",
            "6/6 [==============================] - 0s 27ms/step - loss: 1.2882 - accuracy: 0.3692 - val_loss: 1.3154 - val_accuracy: 0.3786\n",
            "Epoch 129/250\n",
            "6/6 [==============================] - 0s 25ms/step - loss: 1.2707 - accuracy: 0.4186 - val_loss: 1.2989 - val_accuracy: 0.3981\n",
            "Epoch 130/250\n",
            "6/6 [==============================] - 0s 25ms/step - loss: 1.2809 - accuracy: 0.3547 - val_loss: 1.3051 - val_accuracy: 0.3981\n",
            "Epoch 131/250\n",
            "6/6 [==============================] - 0s 32ms/step - loss: 1.2672 - accuracy: 0.3895 - val_loss: 1.3011 - val_accuracy: 0.4175\n",
            "Epoch 132/250\n",
            "6/6 [==============================] - 0s 25ms/step - loss: 1.2652 - accuracy: 0.3866 - val_loss: 1.2964 - val_accuracy: 0.3592\n",
            "Epoch 133/250\n",
            "6/6 [==============================] - 0s 24ms/step - loss: 1.2415 - accuracy: 0.4099 - val_loss: 1.3077 - val_accuracy: 0.4272\n",
            "Epoch 134/250\n",
            "6/6 [==============================] - 0s 34ms/step - loss: 1.2490 - accuracy: 0.3924 - val_loss: 1.2985 - val_accuracy: 0.3786\n",
            "Epoch 135/250\n",
            "6/6 [==============================] - 0s 25ms/step - loss: 1.2605 - accuracy: 0.3256 - val_loss: 1.3535 - val_accuracy: 0.3495\n",
            "Epoch 136/250\n",
            "6/6 [==============================] - 0s 25ms/step - loss: 1.2793 - accuracy: 0.4128 - val_loss: 1.3563 - val_accuracy: 0.3689\n",
            "Epoch 137/250\n",
            "6/6 [==============================] - 0s 24ms/step - loss: 1.2787 - accuracy: 0.4128 - val_loss: 1.2983 - val_accuracy: 0.3883\n",
            "Epoch 138/250\n",
            "6/6 [==============================] - 0s 24ms/step - loss: 1.2958 - accuracy: 0.3285 - val_loss: 1.3345 - val_accuracy: 0.3689\n",
            "Epoch 139/250\n",
            "6/6 [==============================] - 0s 25ms/step - loss: 1.2835 - accuracy: 0.3808 - val_loss: 1.3296 - val_accuracy: 0.4369\n",
            "Epoch 140/250\n",
            "6/6 [==============================] - 0s 25ms/step - loss: 1.2737 - accuracy: 0.3983 - val_loss: 1.3050 - val_accuracy: 0.3786\n",
            "Epoch 141/250\n",
            "6/6 [==============================] - 0s 26ms/step - loss: 1.2738 - accuracy: 0.3983 - val_loss: 1.2999 - val_accuracy: 0.3689\n",
            "Epoch 142/250\n",
            "6/6 [==============================] - 0s 25ms/step - loss: 1.2631 - accuracy: 0.4041 - val_loss: 1.3014 - val_accuracy: 0.3883\n",
            "Epoch 143/250\n",
            "6/6 [==============================] - 0s 25ms/step - loss: 1.2610 - accuracy: 0.3953 - val_loss: 1.3046 - val_accuracy: 0.3786\n",
            "Epoch 144/250\n",
            "6/6 [==============================] - 0s 26ms/step - loss: 1.2591 - accuracy: 0.3866 - val_loss: 1.2988 - val_accuracy: 0.3592\n",
            "Epoch 145/250\n",
            "6/6 [==============================] - 0s 25ms/step - loss: 1.2430 - accuracy: 0.4012 - val_loss: 1.2940 - val_accuracy: 0.4369\n",
            "Epoch 146/250\n",
            "6/6 [==============================] - 0s 25ms/step - loss: 1.2654 - accuracy: 0.4157 - val_loss: 1.2908 - val_accuracy: 0.3689\n",
            "Epoch 147/250\n",
            "6/6 [==============================] - 0s 26ms/step - loss: 1.2659 - accuracy: 0.3895 - val_loss: 1.3002 - val_accuracy: 0.4175\n",
            "Epoch 148/250\n",
            "6/6 [==============================] - 0s 26ms/step - loss: 1.2598 - accuracy: 0.3983 - val_loss: 1.2986 - val_accuracy: 0.3786\n",
            "Epoch 149/250\n",
            "6/6 [==============================] - 0s 26ms/step - loss: 1.2625 - accuracy: 0.4157 - val_loss: 1.3038 - val_accuracy: 0.4175\n",
            "Epoch 150/250\n",
            "6/6 [==============================] - 0s 26ms/step - loss: 1.2367 - accuracy: 0.4186 - val_loss: 1.3578 - val_accuracy: 0.3689\n",
            "Epoch 151/250\n",
            "6/6 [==============================] - 0s 33ms/step - loss: 1.2938 - accuracy: 0.3488 - val_loss: 1.4414 - val_accuracy: 0.2718\n",
            "Epoch 152/250\n",
            "6/6 [==============================] - 0s 25ms/step - loss: 1.2905 - accuracy: 0.3924 - val_loss: 1.3158 - val_accuracy: 0.3592\n",
            "Epoch 153/250\n",
            "6/6 [==============================] - 0s 24ms/step - loss: 1.2410 - accuracy: 0.4360 - val_loss: 1.3209 - val_accuracy: 0.3981\n",
            "Epoch 154/250\n",
            "6/6 [==============================] - 0s 35ms/step - loss: 1.2809 - accuracy: 0.3779 - val_loss: 1.2953 - val_accuracy: 0.3883\n",
            "Epoch 155/250\n",
            "6/6 [==============================] - 0s 26ms/step - loss: 1.2699 - accuracy: 0.3983 - val_loss: 1.4130 - val_accuracy: 0.3689\n",
            "Epoch 156/250\n",
            "6/6 [==============================] - 0s 25ms/step - loss: 1.2946 - accuracy: 0.3983 - val_loss: 1.3625 - val_accuracy: 0.3495\n",
            "Epoch 157/250\n",
            "6/6 [==============================] - 0s 25ms/step - loss: 1.2661 - accuracy: 0.3866 - val_loss: 1.3242 - val_accuracy: 0.3883\n",
            "Epoch 158/250\n",
            "6/6 [==============================] - 0s 25ms/step - loss: 1.2928 - accuracy: 0.3605 - val_loss: 1.3026 - val_accuracy: 0.3592\n",
            "Epoch 159/250\n",
            "6/6 [==============================] - 0s 25ms/step - loss: 1.2820 - accuracy: 0.4157 - val_loss: 1.3170 - val_accuracy: 0.3689\n",
            "Epoch 160/250\n",
            "6/6 [==============================] - 0s 25ms/step - loss: 1.2620 - accuracy: 0.4070 - val_loss: 1.3113 - val_accuracy: 0.3398\n",
            "Epoch 161/250\n",
            "6/6 [==============================] - 0s 31ms/step - loss: 1.2902 - accuracy: 0.3547 - val_loss: 1.3161 - val_accuracy: 0.3981\n",
            "Epoch 162/250\n",
            "6/6 [==============================] - 0s 24ms/step - loss: 1.2671 - accuracy: 0.4215 - val_loss: 1.2973 - val_accuracy: 0.3786\n",
            "Epoch 163/250\n",
            "6/6 [==============================] - 0s 25ms/step - loss: 1.2435 - accuracy: 0.4273 - val_loss: 1.2995 - val_accuracy: 0.3883\n",
            "Epoch 164/250\n",
            "6/6 [==============================] - 0s 25ms/step - loss: 1.2321 - accuracy: 0.4157 - val_loss: 1.3272 - val_accuracy: 0.3981\n",
            "Epoch 165/250\n",
            "6/6 [==============================] - 0s 25ms/step - loss: 1.2356 - accuracy: 0.4099 - val_loss: 1.3367 - val_accuracy: 0.3981\n",
            "Epoch 166/250\n",
            "6/6 [==============================] - 0s 25ms/step - loss: 1.2595 - accuracy: 0.3837 - val_loss: 1.2909 - val_accuracy: 0.4369\n",
            "Epoch 167/250\n",
            "6/6 [==============================] - 0s 26ms/step - loss: 1.2477 - accuracy: 0.4070 - val_loss: 1.3173 - val_accuracy: 0.3883\n",
            "Epoch 168/250\n",
            "6/6 [==============================] - 0s 25ms/step - loss: 1.2434 - accuracy: 0.4041 - val_loss: 1.2852 - val_accuracy: 0.4175\n",
            "Epoch 169/250\n",
            "6/6 [==============================] - 0s 26ms/step - loss: 1.2420 - accuracy: 0.4186 - val_loss: 1.3692 - val_accuracy: 0.3689\n",
            "Epoch 170/250\n",
            "6/6 [==============================] - 0s 24ms/step - loss: 1.3014 - accuracy: 0.3750 - val_loss: 1.4022 - val_accuracy: 0.3204\n",
            "Epoch 171/250\n",
            "6/6 [==============================] - 0s 25ms/step - loss: 1.3300 - accuracy: 0.3721 - val_loss: 1.2864 - val_accuracy: 0.4078\n",
            "Epoch 172/250\n",
            "6/6 [==============================] - 0s 25ms/step - loss: 1.2394 - accuracy: 0.4302 - val_loss: 1.3228 - val_accuracy: 0.4175\n",
            "Epoch 173/250\n",
            "6/6 [==============================] - 0s 26ms/step - loss: 1.2202 - accuracy: 0.4186 - val_loss: 1.2869 - val_accuracy: 0.3883\n",
            "Epoch 174/250\n",
            "6/6 [==============================] - 0s 25ms/step - loss: 1.2616 - accuracy: 0.3488 - val_loss: 1.2833 - val_accuracy: 0.4078\n",
            "Epoch 175/250\n",
            "6/6 [==============================] - 0s 25ms/step - loss: 1.2462 - accuracy: 0.4128 - val_loss: 1.3908 - val_accuracy: 0.3689\n",
            "Epoch 176/250\n",
            "6/6 [==============================] - 0s 27ms/step - loss: 1.2561 - accuracy: 0.4186 - val_loss: 1.3091 - val_accuracy: 0.3981\n",
            "Epoch 177/250\n",
            "6/6 [==============================] - 0s 25ms/step - loss: 1.2662 - accuracy: 0.3517 - val_loss: 1.2847 - val_accuracy: 0.4854\n",
            "Epoch 178/250\n",
            "6/6 [==============================] - 0s 32ms/step - loss: 1.2169 - accuracy: 0.4477 - val_loss: 1.3129 - val_accuracy: 0.4272\n",
            "Epoch 179/250\n",
            "6/6 [==============================] - 0s 25ms/step - loss: 1.2460 - accuracy: 0.4273 - val_loss: 1.3115 - val_accuracy: 0.4078\n",
            "Epoch 180/250\n",
            "6/6 [==============================] - 0s 26ms/step - loss: 1.2329 - accuracy: 0.3983 - val_loss: 1.2815 - val_accuracy: 0.3689\n",
            "Epoch 181/250\n",
            "6/6 [==============================] - 0s 26ms/step - loss: 1.2390 - accuracy: 0.3750 - val_loss: 1.3051 - val_accuracy: 0.3786\n",
            "Epoch 182/250\n",
            "6/6 [==============================] - 0s 27ms/step - loss: 1.2331 - accuracy: 0.3837 - val_loss: 1.2888 - val_accuracy: 0.3883\n",
            "Epoch 183/250\n",
            "6/6 [==============================] - 0s 25ms/step - loss: 1.2374 - accuracy: 0.4215 - val_loss: 1.3182 - val_accuracy: 0.3495\n",
            "Epoch 184/250\n",
            "6/6 [==============================] - 0s 26ms/step - loss: 1.2534 - accuracy: 0.4128 - val_loss: 1.3115 - val_accuracy: 0.3883\n",
            "Epoch 185/250\n",
            "6/6 [==============================] - 0s 26ms/step - loss: 1.2330 - accuracy: 0.4244 - val_loss: 1.2991 - val_accuracy: 0.3981\n",
            "Epoch 186/250\n",
            "6/6 [==============================] - 0s 34ms/step - loss: 1.2508 - accuracy: 0.4012 - val_loss: 1.3994 - val_accuracy: 0.3107\n",
            "Epoch 187/250\n",
            "6/6 [==============================] - 0s 26ms/step - loss: 1.2853 - accuracy: 0.3983 - val_loss: 1.3571 - val_accuracy: 0.3689\n",
            "Epoch 188/250\n",
            "6/6 [==============================] - 0s 34ms/step - loss: 1.2500 - accuracy: 0.4128 - val_loss: 1.2910 - val_accuracy: 0.4369\n",
            "Epoch 189/250\n",
            "6/6 [==============================] - 0s 25ms/step - loss: 1.2505 - accuracy: 0.4012 - val_loss: 1.2864 - val_accuracy: 0.4078\n",
            "Epoch 190/250\n",
            "6/6 [==============================] - 0s 25ms/step - loss: 1.2245 - accuracy: 0.4477 - val_loss: 1.2793 - val_accuracy: 0.3981\n",
            "Epoch 191/250\n",
            "6/6 [==============================] - 0s 25ms/step - loss: 1.2333 - accuracy: 0.4273 - val_loss: 1.2984 - val_accuracy: 0.4078\n",
            "Epoch 192/250\n",
            "6/6 [==============================] - 0s 27ms/step - loss: 1.2280 - accuracy: 0.4128 - val_loss: 1.3269 - val_accuracy: 0.3495\n",
            "Epoch 193/250\n",
            "6/6 [==============================] - 0s 25ms/step - loss: 1.2873 - accuracy: 0.4070 - val_loss: 1.3493 - val_accuracy: 0.3398\n",
            "Epoch 194/250\n",
            "6/6 [==============================] - 0s 25ms/step - loss: 1.2480 - accuracy: 0.4186 - val_loss: 1.3033 - val_accuracy: 0.3689\n",
            "Epoch 195/250\n",
            "6/6 [==============================] - 0s 25ms/step - loss: 1.2530 - accuracy: 0.3692 - val_loss: 1.3281 - val_accuracy: 0.3495\n",
            "Epoch 196/250\n",
            "6/6 [==============================] - 0s 25ms/step - loss: 1.2386 - accuracy: 0.4302 - val_loss: 1.3135 - val_accuracy: 0.3495\n",
            "Epoch 197/250\n",
            "6/6 [==============================] - 0s 24ms/step - loss: 1.2261 - accuracy: 0.4099 - val_loss: 1.2987 - val_accuracy: 0.3592\n",
            "Epoch 198/250\n",
            "6/6 [==============================] - 0s 33ms/step - loss: 1.2240 - accuracy: 0.4419 - val_loss: 1.3280 - val_accuracy: 0.4272\n",
            "Epoch 199/250\n",
            "6/6 [==============================] - 0s 25ms/step - loss: 1.2534 - accuracy: 0.4128 - val_loss: 1.2914 - val_accuracy: 0.3786\n",
            "Epoch 200/250\n",
            "6/6 [==============================] - 0s 25ms/step - loss: 1.2661 - accuracy: 0.3924 - val_loss: 1.2826 - val_accuracy: 0.3981\n",
            "Epoch 201/250\n",
            "6/6 [==============================] - 0s 33ms/step - loss: 1.2113 - accuracy: 0.4390 - val_loss: 1.3172 - val_accuracy: 0.4466\n",
            "Epoch 202/250\n",
            "6/6 [==============================] - 0s 26ms/step - loss: 1.2195 - accuracy: 0.4157 - val_loss: 1.2879 - val_accuracy: 0.3689\n",
            "Epoch 203/250\n",
            "6/6 [==============================] - 0s 25ms/step - loss: 1.2112 - accuracy: 0.4390 - val_loss: 1.2962 - val_accuracy: 0.4466\n",
            "Epoch 204/250\n",
            "6/6 [==============================] - 0s 27ms/step - loss: 1.2197 - accuracy: 0.4128 - val_loss: 1.2904 - val_accuracy: 0.3495\n",
            "Epoch 205/250\n",
            "6/6 [==============================] - 0s 27ms/step - loss: 1.2085 - accuracy: 0.4302 - val_loss: 1.3383 - val_accuracy: 0.3786\n",
            "Epoch 206/250\n",
            "6/6 [==============================] - 0s 25ms/step - loss: 1.2259 - accuracy: 0.4593 - val_loss: 1.2951 - val_accuracy: 0.3883\n",
            "Epoch 207/250\n",
            "6/6 [==============================] - 0s 26ms/step - loss: 1.2010 - accuracy: 0.4331 - val_loss: 1.3221 - val_accuracy: 0.3592\n",
            "Epoch 208/250\n",
            "6/6 [==============================] - 0s 26ms/step - loss: 1.2618 - accuracy: 0.4128 - val_loss: 1.3269 - val_accuracy: 0.4078\n",
            "Epoch 209/250\n",
            "6/6 [==============================] - 0s 26ms/step - loss: 1.2206 - accuracy: 0.4128 - val_loss: 1.3087 - val_accuracy: 0.3786\n",
            "Epoch 210/250\n",
            "6/6 [==============================] - 0s 26ms/step - loss: 1.2143 - accuracy: 0.4390 - val_loss: 1.2823 - val_accuracy: 0.3883\n",
            "Epoch 211/250\n",
            "6/6 [==============================] - 0s 26ms/step - loss: 1.2216 - accuracy: 0.4215 - val_loss: 1.2933 - val_accuracy: 0.4272\n",
            "Epoch 212/250\n",
            "6/6 [==============================] - 0s 32ms/step - loss: 1.2008 - accuracy: 0.4419 - val_loss: 1.2821 - val_accuracy: 0.4078\n",
            "Epoch 213/250\n",
            "6/6 [==============================] - 0s 26ms/step - loss: 1.1927 - accuracy: 0.4622 - val_loss: 1.3062 - val_accuracy: 0.3981\n",
            "Epoch 214/250\n",
            "6/6 [==============================] - 0s 33ms/step - loss: 1.2226 - accuracy: 0.4448 - val_loss: 1.3315 - val_accuracy: 0.3981\n",
            "Epoch 215/250\n",
            "6/6 [==============================] - 0s 25ms/step - loss: 1.2137 - accuracy: 0.4099 - val_loss: 1.2969 - val_accuracy: 0.4175\n",
            "Epoch 216/250\n",
            "6/6 [==============================] - 0s 25ms/step - loss: 1.1981 - accuracy: 0.4564 - val_loss: 1.3124 - val_accuracy: 0.3689\n",
            "Epoch 217/250\n",
            "6/6 [==============================] - 0s 25ms/step - loss: 1.2088 - accuracy: 0.4157 - val_loss: 1.2889 - val_accuracy: 0.3592\n",
            "Epoch 218/250\n",
            "6/6 [==============================] - 0s 33ms/step - loss: 1.2088 - accuracy: 0.4157 - val_loss: 1.2953 - val_accuracy: 0.4369\n",
            "Epoch 219/250\n",
            "6/6 [==============================] - 0s 26ms/step - loss: 1.1853 - accuracy: 0.4622 - val_loss: 1.3470 - val_accuracy: 0.3981\n",
            "Epoch 220/250\n",
            "6/6 [==============================] - 0s 25ms/step - loss: 1.2284 - accuracy: 0.4157 - val_loss: 1.2905 - val_accuracy: 0.3689\n",
            "Epoch 221/250\n",
            "6/6 [==============================] - 0s 25ms/step - loss: 1.2139 - accuracy: 0.4564 - val_loss: 1.3979 - val_accuracy: 0.3592\n",
            "Epoch 222/250\n",
            "6/6 [==============================] - 0s 25ms/step - loss: 1.2311 - accuracy: 0.3895 - val_loss: 1.3182 - val_accuracy: 0.3495\n",
            "Epoch 223/250\n",
            "6/6 [==============================] - 0s 26ms/step - loss: 1.2702 - accuracy: 0.4099 - val_loss: 1.3434 - val_accuracy: 0.3398\n",
            "Epoch 224/250\n",
            "6/6 [==============================] - 0s 27ms/step - loss: 1.2820 - accuracy: 0.3895 - val_loss: 1.2962 - val_accuracy: 0.3981\n",
            "Epoch 225/250\n",
            "6/6 [==============================] - 0s 25ms/step - loss: 1.1950 - accuracy: 0.4477 - val_loss: 1.3236 - val_accuracy: 0.4175\n",
            "Epoch 226/250\n",
            "6/6 [==============================] - 0s 25ms/step - loss: 1.2011 - accuracy: 0.4477 - val_loss: 1.3064 - val_accuracy: 0.3592\n",
            "Epoch 227/250\n",
            "6/6 [==============================] - 0s 25ms/step - loss: 1.2081 - accuracy: 0.4070 - val_loss: 1.2899 - val_accuracy: 0.3786\n",
            "Epoch 228/250\n",
            "6/6 [==============================] - 0s 33ms/step - loss: 1.1934 - accuracy: 0.4215 - val_loss: 1.3330 - val_accuracy: 0.3689\n",
            "Epoch 229/250\n",
            "6/6 [==============================] - 0s 26ms/step - loss: 1.2579 - accuracy: 0.4128 - val_loss: 1.3748 - val_accuracy: 0.3592\n",
            "Epoch 230/250\n",
            "6/6 [==============================] - 0s 24ms/step - loss: 1.2312 - accuracy: 0.4128 - val_loss: 1.2786 - val_accuracy: 0.4078\n",
            "Epoch 231/250\n",
            "6/6 [==============================] - 0s 26ms/step - loss: 1.1818 - accuracy: 0.4680 - val_loss: 1.2896 - val_accuracy: 0.4369\n",
            "Epoch 232/250\n",
            "6/6 [==============================] - 0s 25ms/step - loss: 1.2093 - accuracy: 0.4535 - val_loss: 1.3105 - val_accuracy: 0.4175\n",
            "Epoch 233/250\n",
            "6/6 [==============================] - 0s 25ms/step - loss: 1.2163 - accuracy: 0.4331 - val_loss: 1.3036 - val_accuracy: 0.3981\n",
            "Epoch 234/250\n",
            "6/6 [==============================] - 0s 25ms/step - loss: 1.1835 - accuracy: 0.4680 - val_loss: 1.2802 - val_accuracy: 0.3689\n",
            "Epoch 235/250\n",
            "6/6 [==============================] - 0s 24ms/step - loss: 1.2086 - accuracy: 0.4273 - val_loss: 1.2824 - val_accuracy: 0.4175\n",
            "Epoch 236/250\n",
            "6/6 [==============================] - 0s 25ms/step - loss: 1.1845 - accuracy: 0.4157 - val_loss: 1.2862 - val_accuracy: 0.3786\n",
            "Epoch 237/250\n",
            "6/6 [==============================] - 0s 26ms/step - loss: 1.2024 - accuracy: 0.4244 - val_loss: 1.2814 - val_accuracy: 0.4078\n",
            "Epoch 238/250\n",
            "6/6 [==============================] - 0s 25ms/step - loss: 1.1980 - accuracy: 0.4302 - val_loss: 1.3445 - val_accuracy: 0.3981\n",
            "Epoch 239/250\n",
            "6/6 [==============================] - 0s 33ms/step - loss: 1.2715 - accuracy: 0.3895 - val_loss: 1.3186 - val_accuracy: 0.3981\n",
            "Epoch 240/250\n",
            "6/6 [==============================] - 0s 26ms/step - loss: 1.2125 - accuracy: 0.4012 - val_loss: 1.3303 - val_accuracy: 0.3495\n",
            "Epoch 241/250\n",
            "6/6 [==============================] - 0s 26ms/step - loss: 1.2327 - accuracy: 0.4331 - val_loss: 1.4158 - val_accuracy: 0.3107\n",
            "Epoch 242/250\n",
            "6/6 [==============================] - 0s 26ms/step - loss: 1.2450 - accuracy: 0.4186 - val_loss: 1.3221 - val_accuracy: 0.4078\n",
            "Epoch 243/250\n",
            "6/6 [==============================] - 0s 26ms/step - loss: 1.2374 - accuracy: 0.4157 - val_loss: 1.3611 - val_accuracy: 0.3107\n",
            "Epoch 244/250\n",
            "6/6 [==============================] - 0s 27ms/step - loss: 1.2518 - accuracy: 0.4157 - val_loss: 1.2891 - val_accuracy: 0.4369\n",
            "Epoch 245/250\n",
            "6/6 [==============================] - 0s 27ms/step - loss: 1.1960 - accuracy: 0.4506 - val_loss: 1.3031 - val_accuracy: 0.4369\n",
            "Epoch 246/250\n",
            "6/6 [==============================] - 0s 25ms/step - loss: 1.1945 - accuracy: 0.4360 - val_loss: 1.3024 - val_accuracy: 0.3592\n",
            "Epoch 247/250\n",
            "6/6 [==============================] - 0s 25ms/step - loss: 1.1953 - accuracy: 0.4477 - val_loss: 1.3800 - val_accuracy: 0.3786\n",
            "Epoch 248/250\n",
            "6/6 [==============================] - 0s 25ms/step - loss: 1.2333 - accuracy: 0.4535 - val_loss: 1.3322 - val_accuracy: 0.4078\n",
            "Epoch 249/250\n",
            "6/6 [==============================] - 0s 26ms/step - loss: 1.2344 - accuracy: 0.4215 - val_loss: 1.3065 - val_accuracy: 0.3786\n",
            "Epoch 250/250\n",
            "6/6 [==============================] - 0s 25ms/step - loss: 1.1992 - accuracy: 0.4215 - val_loss: 1.3301 - val_accuracy: 0.3981\n"
          ]
        }
      ],
      "source": [
        "\n",
        "resnet_model.compile(optimizer='adam',loss = tf.keras.losses.SparseCategoricalCrossentropy(from_logits=True), metrics=['accuracy'])\n",
        "\n",
        "fittedModel = resnet_model.fit(TrainData_resize, TrainLabel1, batch_size = 64, epochs = 250, \n",
        "                        validation_data=(resized_valid, ValidLabel1))\n",
        "                       "
      ]
    },
    {
      "cell_type": "code",
      "execution_count": null,
      "metadata": {
        "colab": {
          "base_uri": "https://localhost:8080/",
          "height": 295
        },
        "id": "g_hybrg_IzDG",
        "outputId": "e2375b8a-3fb1-4dd3-c84e-9caa76baadbc"
      },
      "outputs": [
        {
          "output_type": "display_data",
          "data": {
            "text/plain": [
              "<Figure size 432x288 with 1 Axes>"
            ],
            "image/png": "[encoded data removed]"
          },
          "metadata": {
            "needs_background": "light"
          }
        }
      ],
      "source": [
        "plt.plot(fittedModel.history['accuracy'])\n",
        "plt.plot(fittedModel.history['val_accuracy'])\n",
        "plt.title('model accuracy')\n",
        "plt.ylabel('accuracy')\n",
        "plt.xlabel('epoch')\n",
        "plt.legend(['train', 'val'], loc='upper left')\n",
        "plt.show()"
      ]
    },
    {
      "cell_type": "code",
      "execution_count": null,
      "metadata": {
        "colab": {
          "base_uri": "https://localhost:8080/",
          "height": 295
        },
        "id": "AuYMerO9dZoZ",
        "outputId": "316046f7-9bd9-4a2f-c86a-8ab060055933"
      },
      "outputs": [
        {
          "output_type": "display_data",
          "data": {
            "text/plain": [
              "<Figure size 432x288 with 1 Axes>"
            ],
            "image/png": "[encoded data removed]"
          },
          "metadata": {
            "needs_background": "light"
          }
        }
      ],
      "source": [
        "plt.plot(fittedModel.history['loss'])\n",
        "plt.plot(fittedModel.history['val_loss'])\n",
        "plt.title('model loss')\n",
        "plt.ylabel('loss')\n",
        "plt.xlabel('epoch')\n",
        "plt.legend(['train', 'val'], loc='upper left')\n",
        "plt.show()"
      ]
    },
    {
      "cell_type": "code",
      "execution_count": null,
      "metadata": {
        "colab": {
          "base_uri": "https://localhost:8080/"
        },
        "id": "n7T353jHEgfu",
        "outputId": "53d804db-5c5c-43d7-ced8-88c08646e5a7"
      },
      "outputs": [
        {
          "output_type": "stream",
          "name": "stdout",
          "text": [
            "0.35856310719251633\n"
          ]
        }
      ],
      "source": [
        "print(np.mean(fittedModel.history['val_accuracy']))"
      ]
    },
    {
      "cell_type": "code",
      "execution_count": null,
      "metadata": {
        "colab": {
          "base_uri": "https://localhost:8080/"
        },
        "id": "v6qlg0WyiRkj",
        "outputId": "23dffcfa-50ee-4ee9-8fe9-1749252056b1"
      },
      "outputs": [
        {
          "output_type": "stream",
          "name": "stdout",
          "text": [
            "1/1 [==============================] - 0s 424ms/step - loss: 1.7032 - accuracy: 0.3333\n",
            "(12, 32, 32, 3) (12,)\n"
          ]
        }
      ],
      "source": [
        "resnet_model.evaluate(resized_test, TestLabel1)\n",
        "print(resized_test.shape,TestLabel1.shape)"
      ]
    },
    {
      "cell_type": "code",
      "execution_count": null,
      "metadata": {
        "colab": {
          "base_uri": "https://localhost:8080/"
        },
        "id": "xrFPKtJFC8Zj",
        "outputId": "0d63692e-23a2-4116-9ecd-f768dd0490dc"
      },
      "outputs": [
        {
          "output_type": "stream",
          "name": "stdout",
          "text": [
            "[3 3 0 0 0 3 3 0 3 3 3 3] 1\n"
          ]
        }
      ],
      "source": [
        "predictions = resnet_model.predict(resized_test)\n",
        "pred_classes = np.argmax(predictions, axis = 1)\n",
        "actual_classes = np.argmax(TestLabel1, axis = 0)\n",
        "print(pred_classes, actual_classes)\n"
      ]
    }
  ],
  "metadata": {
    "accelerator": "GPU",
    "colab": {
      "collapsed_sections": [],
      "provenance": []
    },
    "gpuClass": "standard",
    "kernelspec": {
      "display_name": "Python 3",
      "name": "python3"
    },
    "language_info": {
      "name": "python"
    }
  },
  "nbformat": 4,
  "nbformat_minor": 0
}