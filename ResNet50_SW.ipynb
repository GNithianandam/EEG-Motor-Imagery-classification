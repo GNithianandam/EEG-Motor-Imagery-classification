{
  "cells": [
    {
      "cell_type": "code",
      "execution_count": null,
      "metadata": {
        "colab": {
          "base_uri": "https://localhost:8080/"
        },
        "id": "tiF8-5csPI16",
        "outputId": "682088cf-e463-4fd3-d059-6f6ff82d2a5b"
      },
      "outputs": [
        {
          "output_type": "stream",
          "name": "stdout",
          "text": [
            "Looking in indexes: https://pypi.org/simple, https://us-python.pkg.dev/colab-wheels/public/simple/\n",
            "Requirement already satisfied: mne in /usr/local/lib/python3.7/dist-packages (1.1.1)\n",
            "Requirement already satisfied: tqdm in /usr/local/lib/python3.7/dist-packages (from mne) (4.64.0)\n",
            "Requirement already satisfied: pooch>=1.5 in /usr/local/lib/python3.7/dist-packages (from mne) (1.6.0)\n",
            "Requirement already satisfied: numpy>=1.15.4 in /usr/local/lib/python3.7/dist-packages (from mne) (1.21.6)\n",
            "Requirement already satisfied: jinja2 in /usr/local/lib/python3.7/dist-packages (from mne) (2.11.3)\n",
            "Requirement already satisfied: scipy>=1.1.0 in /usr/local/lib/python3.7/dist-packages (from mne) (1.7.3)\n",
            "Requirement already satisfied: matplotlib in /usr/local/lib/python3.7/dist-packages (from mne) (3.2.2)\n",
            "Requirement already satisfied: packaging in /usr/local/lib/python3.7/dist-packages (from mne) (21.3)\n",
            "Requirement already satisfied: decorator in /usr/local/lib/python3.7/dist-packages (from mne) (4.4.2)\n",
            "Requirement already satisfied: appdirs>=1.3.0 in /usr/local/lib/python3.7/dist-packages (from pooch>=1.5->mne) (1.4.4)\n",
            "Requirement already satisfied: requests>=2.19.0 in /usr/local/lib/python3.7/dist-packages (from pooch>=1.5->mne) (2.23.0)\n",
            "Requirement already satisfied: pyparsing!=3.0.5,>=2.0.2 in /usr/local/lib/python3.7/dist-packages (from packaging->mne) (3.0.9)\n",
            "Requirement already satisfied: chardet<4,>=3.0.2 in /usr/local/lib/python3.7/dist-packages (from requests>=2.19.0->pooch>=1.5->mne) (3.0.4)\n",
            "Requirement already satisfied: urllib3!=1.25.0,!=1.25.1,<1.26,>=1.21.1 in /usr/local/lib/python3.7/dist-packages (from requests>=2.19.0->pooch>=1.5->mne) (1.24.3)\n",
            "Requirement already satisfied: certifi>=2017.4.17 in /usr/local/lib/python3.7/dist-packages (from requests>=2.19.0->pooch>=1.5->mne) (2022.6.15)\n",
            "Requirement already satisfied: idna<3,>=2.5 in /usr/local/lib/python3.7/dist-packages (from requests>=2.19.0->pooch>=1.5->mne) (2.10)\n",
            "Requirement already satisfied: MarkupSafe>=0.23 in /usr/local/lib/python3.7/dist-packages (from jinja2->mne) (2.0.1)\n",
            "Requirement already satisfied: python-dateutil>=2.1 in /usr/local/lib/python3.7/dist-packages (from matplotlib->mne) (2.8.2)\n",
            "Requirement already satisfied: kiwisolver>=1.0.1 in /usr/local/lib/python3.7/dist-packages (from matplotlib->mne) (1.4.4)\n",
            "Requirement already satisfied: cycler>=0.10 in /usr/local/lib/python3.7/dist-packages (from matplotlib->mne) (0.11.0)\n",
            "Requirement already satisfied: typing-extensions in /usr/local/lib/python3.7/dist-packages (from kiwisolver>=1.0.1->matplotlib->mne) (4.1.1)\n",
            "Requirement already satisfied: six>=1.5 in /usr/local/lib/python3.7/dist-packages (from python-dateutil>=2.1->matplotlib->mne) (1.15.0)\n"
          ]
        }
      ],
      "source": [
        "!pip install mne\n",
        "import mne\n",
        "import numpy as np\n",
        "from matplotlib import pyplot as plt\n",
        "from PIL import Image\n",
        "from sklearn.model_selection import train_test_split\n",
        "import tensorflow as tf\n",
        "from keras import layers\n",
        "from tensorflow.keras import utils as np_utils\n",
        "from tensorflow.keras.models import Model\n",
        "from tensorflow.keras.layers import Dense, Activation, Permute, Dropout\n",
        "from tensorflow.keras.layers import Conv2D, MaxPooling2D, AveragePooling2D\n",
        "from tensorflow.keras.layers import SeparableConv2D, DepthwiseConv2D\n",
        "from tensorflow.keras.layers import BatchNormalization\n",
        "from tensorflow.keras.layers import SpatialDropout2D\n",
        "from tensorflow.keras.regularizers import l1_l2\n",
        "from tensorflow.keras.layers import Input, Flatten\n",
        "from tensorflow.keras.constraints import max_norm\n",
        "from tensorflow.keras import backend as K"
      ]
    },
    {
      "cell_type": "code",
      "execution_count": null,
      "metadata": {
        "colab": {
          "base_uri": "https://localhost:8080/"
        },
        "id": "OVu8GHKaPlPR",
        "outputId": "5aee6d83-3a48-4ce3-b1a2-265eb878d927"
      },
      "outputs": [
        {
          "output_type": "stream",
          "name": "stdout",
          "text": [
            "Drive already mounted at /content/drive; to attempt to forcibly remount, call drive.mount(\"/content/drive\", force_remount=True).\n"
          ]
        }
      ],
      "source": [
        "from google.colab import drive\n",
        "drive.mount('/content/drive')\n",
        "file='/content/drive/MyDrive/BCICIV_2a_gdf/A08T.gdf'"
      ]
    },
    {
      "cell_type": "code",
      "source": [
        "\n",
        "raw=mne.io.read_raw_gdf(file, preload=True, stim_channel='auto', verbose=False)\n",
        "# Filter settings\n",
        "low_cut = 4\n",
        "hi_cut  = 40\n",
        "\n",
        "raw_filt = raw.copy().filter(low_cut, hi_cut)\n",
        "#raw.filter(4,40.,fir_design='firwin')\n",
        "#raw.plot_psd(area_mode='range', tmax=10.0,average=False)\n",
        "rawdata = raw_filt.get_data()\n",
        "print(rawdata.shape)\n",
        "events, event_id = mne.events_from_annotations(raw_filt)\n",
        "print(events.shape[0])\n",
        "allLeftData = []\n",
        "allRightData = []\n",
        "allFootData = []\n",
        "allTongueData = []\n",
        "for i in range(events.shape[0]-1):\n",
        "  if(events[i,2] == 7):\n",
        "    leftData = rawdata[:,events[i,0]+125:events[i,0]+1125] \n",
        "    allLeftData.append(leftData)\n",
        "  if(events[i,2] == 8):\n",
        "    rightData = rawdata[:,events[i,0]+125:events[i,0]+1125]\n",
        "    allRightData.append(rightData)\n",
        "  if(events[i,2] == 9):\n",
        "    footData = rawdata[:,events[i,0]+125:events[i,0]+1125]\n",
        "    allFootData.append(footData)\n",
        "  if(events[i,2] == 10):\n",
        "    tongueData = rawdata[:,events[i,0]+125:events[i,0]+1125]\n",
        "    allTongueData.append(tongueData)\n",
        "print(len(allLeftData))\n",
        "print(len(allRightData))\n",
        "print(len(allFootData))\n",
        "print(len(allTongueData))\n",
        "allLeftData = np.array(allLeftData) # creates an array \n",
        "allRightData = np.array(allRightData)\n",
        "allFootData = np.array(allFootData)\n",
        "allTongueData = np.array(allTongueData)\n",
        "allLeftData = allLeftData[:71,:22,:] #creating a matrix with 71 rows, 22 columns and 600 depth. 600 is the window size \n",
        "allRightData = allRightData[:71,:22,:]\n",
        "allFootData = allFootData[:71,:22,:]\n",
        "allTongueData = allTongueData[:71,:22,:]\n",
        "print(allLeftData.shape)\n",
        "print(allRightData.shape)\n",
        "print(allFootData.shape)\n",
        "print(allTongueData.shape)\n",
        "\n",
        "def standardlizeSig(data):\n",
        "  base = np.mean(data)\n",
        "  std = np.std(data)\n",
        "  standardlized_data = (data-base)/std\n",
        "  del base, std\n",
        "  return standardlized_data\n",
        "# def standardlizeSig(data):\n",
        "#   minft = data.min()\n",
        "#   maxft = data.max()\n",
        "#   standardlized_data= ((data - minft)/(maxft - minft))\n",
        "#   return standardlized_data\n",
        "\n",
        "allLeftDataTF = []\n",
        "allRightDataTF = []\n",
        "allFootDataTF = []\n",
        "allTongueDataTF = []\n",
        "for i in range (allLeftData.shape[0]):\n",
        "  allLeftDataTF.append(standardlizeSig(allLeftData[i,:,:]))\n",
        "  allRightDataTF.append(standardlizeSig(allRightData[i,:,:]))\n",
        "  allFootDataTF.append(standardlizeSig(allFootData[i,:,:]))\n",
        "  allTongueDataTF.append(standardlizeSig(allTongueData[i,:,:]))\n",
        "allLeftDataTF = np.array(allLeftDataTF) # creates an array \n",
        "allRightDataTF = np.array(allRightDataTF)\n",
        "allFootDataTF = np.array(allFootDataTF)\n",
        "allTongueDataTF = np.array(allTongueDataTF)\n",
        "\n",
        "trainleftLabels = [0] * allLeftDataTF.shape[0]\n",
        "trainrightLabels = [1] * allRightDataTF.shape[0]\n",
        "trainfootLabels = [2] * allFootDataTF.shape[0]\n",
        "traintongueLabels = [3] * allTongueDataTF.shape[0]\n",
        "allTrainLabels = trainleftLabels + trainrightLabels + trainfootLabels + traintongueLabels\n",
        "allTrainLabels = np.array(allTrainLabels)\n",
        "allTrainData = np.concatenate((allLeftDataTF, allRightDataTF, allFootDataTF,allTongueDataTF))\n",
        "X_train, X_rem, Y_train, Y_rem = train_test_split(allTrainData, allTrainLabels, test_size=0.4,random_state=42)\n",
        "X_validate,X_test,Y_validate,Y_test  = train_test_split(X_rem, Y_rem, test_size=0.1,random_state=42)\n",
        "print (X_train.shape, Y_train.shape)\n"
      ],
      "metadata": {
        "colab": {
          "base_uri": "https://localhost:8080/"
        },
        "outputId": "ddd50f0f-4fed-4853-f97a-28d94e50c43a",
        "id": "T2N4xK7h-IBO"
      },
      "execution_count": null,
      "outputs": [
        {
          "output_type": "stream",
          "name": "stderr",
          "text": [
            "/usr/local/lib/python3.7/dist-packages/mne/io/edf/edf.py:1155: DeprecationWarning: The binary mode of fromstring is deprecated, as it behaves surprisingly on unicode inputs. Use frombuffer instead\n",
            "  etmode = np.fromstring(etmode, UINT8).tolist()[0]\n",
            "/usr/lib/python3.7/contextlib.py:119: RuntimeWarning: Channel names are not unique, found duplicates for: {'EEG'}. Applying running numbers for duplicates.\n",
            "  next(self.gen)\n"
          ]
        },
        {
          "output_type": "stream",
          "name": "stdout",
          "text": [
            "Filtering raw data in 1 contiguous segment\n",
            "Setting up band-pass filter from 4 - 40 Hz\n",
            "\n",
            "FIR filter parameters\n",
            "---------------------\n",
            "Designing a one-pass, zero-phase, non-causal bandpass filter:\n",
            "- Windowed time-domain design (firwin) method\n",
            "- Hamming window with 0.0194 passband ripple and 53 dB stopband attenuation\n",
            "- Lower passband edge: 4.00\n",
            "- Lower transition bandwidth: 2.00 Hz (-6 dB cutoff frequency: 3.00 Hz)\n",
            "- Upper passband edge: 40.00 Hz\n",
            "- Upper transition bandwidth: 10.00 Hz (-6 dB cutoff frequency: 45.00 Hz)\n",
            "- Filter length: 413 samples (1.652 sec)\n",
            "\n"
          ]
        },
        {
          "output_type": "stream",
          "name": "stderr",
          "text": [
            "[Parallel(n_jobs=1)]: Using backend SequentialBackend with 1 concurrent workers.\n",
            "[Parallel(n_jobs=1)]: Done   1 out of   1 | elapsed:    0.0s remaining:    0.0s\n",
            "[Parallel(n_jobs=1)]: Done   2 out of   2 | elapsed:    0.1s remaining:    0.0s\n",
            "[Parallel(n_jobs=1)]: Done   3 out of   3 | elapsed:    0.1s remaining:    0.0s\n",
            "[Parallel(n_jobs=1)]: Done   4 out of   4 | elapsed:    0.1s remaining:    0.0s\n"
          ]
        },
        {
          "output_type": "stream",
          "name": "stdout",
          "text": [
            "(25, 675270)\n",
            "Used Annotations descriptions: ['1023', '1072', '276', '277', '32766', '768', '769', '770', '771', '772']\n"
          ]
        },
        {
          "output_type": "stream",
          "name": "stderr",
          "text": [
            "[Parallel(n_jobs=1)]: Done  25 out of  25 | elapsed:    0.7s finished\n"
          ]
        },
        {
          "output_type": "stream",
          "name": "stdout",
          "text": [
            "612\n",
            "72\n",
            "72\n",
            "71\n",
            "72\n",
            "(71, 22, 1000)\n",
            "(71, 22, 1000)\n",
            "(71, 22, 1000)\n",
            "(71, 22, 1000)\n",
            "(170, 22, 1000) (170,)\n"
          ]
        }
      ]
    },
    {
      "cell_type": "code",
      "source": [
        "# sliding window for train data\n",
        "\n",
        "TrainData=list()\n",
        "TrainLabel=list()\n",
        "\n",
        "\n",
        "step=500\n",
        "window=500\n",
        "time   = X_train.shape[2]             # number of time points\n",
        "begs   = list(range(0, time, step))  \n",
        "for i in range(X_train.shape[0]):\n",
        "  for j in begs:\n",
        "      if j + window <= time:\n",
        "        TrainData .append(X_train[i:i+1, :, j:j+window])\n",
        "        TrainLabel .append(Y_train[i])\n",
        "        \n",
        "\n",
        "        \n",
        "TrainData  = np.concatenate(TrainData, axis=0)\n",
        "TrainLabel = np.array(TrainLabel)\n",
        "\n",
        "\n",
        "\n",
        "#TrainData=((TrainData - TrainData.min())/(TrainData.max() - TrainData.min()))\n",
        "print('sliding window is ', TrainData.shape, TrainLabel.shape)"
      ],
      "metadata": {
        "colab": {
          "base_uri": "https://localhost:8080/"
        },
        "id": "6wHoY18gx73r",
        "outputId": "4f65267d-9d26-456b-aeb0-a6742b941fc9"
      },
      "execution_count": null,
      "outputs": [
        {
          "output_type": "stream",
          "name": "stdout",
          "text": [
            "sliding window is  (340, 22, 500) (340,)\n"
          ]
        }
      ]
    },
    {
      "cell_type": "code",
      "source": [
        "ValidData=list()\n",
        "ValidLabel=list()\n",
        "\n",
        "time   = X_validate.shape[2]             # number of time points\n",
        "begs   = list(range(0, time, step))  \n",
        "for i in range(X_validate.shape[0]):\n",
        "  for j in begs:\n",
        "      if j + window <= time:\n",
        "        ValidData .append(X_validate[i:i+1, :, j:j+window])\n",
        "        ValidLabel .append(Y_validate[i])\n",
        "        \n",
        "\n",
        "        \n",
        "ValidData  = np.concatenate(ValidData, axis=0)\n",
        "ValidLabel = np.array(ValidLabel)\n",
        "\n",
        "#TestData=((TestData - TestData.min())/(TestData.max() - TestData.min()))\n",
        "print('sliding window is ', ValidData.shape, ValidLabel.shape)"
      ],
      "metadata": {
        "colab": {
          "base_uri": "https://localhost:8080/"
        },
        "id": "0FpWjoog3mps",
        "outputId": "c9c1c165-7a00-438a-b34d-6fdab86d1cb0"
      },
      "execution_count": null,
      "outputs": [
        {
          "output_type": "stream",
          "name": "stdout",
          "text": [
            "sliding window is  (204, 22, 500) (204,)\n"
          ]
        }
      ]
    },
    {
      "cell_type": "code",
      "source": [
        "TestData=list()\n",
        "TestLabel=list()\n",
        "\n",
        "time   = X_test.shape[2]             # number of time points\n",
        "begs   = list(range(0, time, step))  \n",
        "for i in range(X_test.shape[0]):\n",
        "  for j in begs:\n",
        "      if j + window <= time:\n",
        "        TestData .append(X_test[i:i+1, :, j:j+window])\n",
        "        TestLabel .append(Y_test[i])\n",
        "        \n",
        "\n",
        "        \n",
        "TestData  = np.concatenate(TestData, axis=0)\n",
        "TestLabel = np.array(TestLabel)\n",
        "\n",
        "#TestData=((TestData - TestData.min())/(TestData.max() - TestData.min()))\n",
        "print('sliding window is ', TestData.shape, TestLabel.shape)"
      ],
      "metadata": {
        "id": "EQUPz-9j7Lp3",
        "colab": {
          "base_uri": "https://localhost:8080/"
        },
        "outputId": "c1020b9c-8db6-406e-b5fb-47841b3c58a2"
      },
      "execution_count": null,
      "outputs": [
        {
          "output_type": "stream",
          "name": "stdout",
          "text": [
            "sliding window is  (24, 22, 500) (24,)\n"
          ]
        }
      ]
    },
    {
      "cell_type": "code",
      "source": [
        "import cv2\n",
        "IMG_HEIGHT = 32\n",
        "IMG_WIDTH = 32\n",
        "CHANNAL = 3 \n",
        "input_shape=(IMG_HEIGHT,IMG_WIDTH)  ## input shape \n",
        "TrainData_cov=[]\n",
        "for i in range(TrainData.shape[0]):\n",
        "  cov=np.cov(TrainData[i])\n",
        "  TrainData_cov.append(cov)\n",
        "TrainData_cov=np.array(TrainData_cov)\n",
        "print(TrainData_cov.shape)\n",
        "rgb_train_batch = np.repeat(TrainData_cov[..., np.newaxis], 3, -1)\n",
        "print(rgb_train_batch.shape)\n",
        "resized_train = np.ndarray(shape=(rgb_train_batch.shape[0],IMG_HEIGHT,IMG_WIDTH,CHANNAL))\n",
        "for rec in range(rgb_train_batch.shape[0]):\n",
        "    resized_train[rec] = cv2.resize(rgb_train_batch[rec], (IMG_HEIGHT,IMG_WIDTH),interpolation = cv2.INTER_AREA)\n",
        "print(resized_train.shape)\n",
        "plt.imshow(resized_train[2])\n",
        "plt.show()"
      ],
      "metadata": {
        "colab": {
          "base_uri": "https://localhost:8080/",
          "height": 334
        },
        "id": "hPahtecGrLxQ",
        "outputId": "97c0b067-836d-4f84-8e40-ca818b380de8"
      },
      "execution_count": null,
      "outputs": [
        {
          "output_type": "stream",
          "name": "stderr",
          "text": [
            "WARNING:matplotlib.image:Clipping input data to the valid range for imshow with RGB data ([0..1] for floats or [0..255] for integers).\n"
          ]
        },
        {
          "output_type": "stream",
          "name": "stdout",
          "text": [
            "(340, 22, 22)\n",
            "(340, 22, 22, 3)\n",
            "(340, 32, 32, 3)\n"
          ]
        },
        {
          "output_type": "display_data",
          "data": {
            "text/plain": [
              "<Figure size 432x288 with 1 Axes>"
            ],
            "image/png": "[encoded data removed]"
          },
          "metadata": {
            "needs_background": "light"
          }
        }
      ]
    },
    {
      "cell_type": "code",
      "source": [
        "ValidData_cov=[]\n",
        "for i in range(ValidData.shape[0]):\n",
        "  cov=np.cov(ValidData[i])\n",
        "  ValidData_cov.append(cov)\n",
        "ValidData_cov=np.array(ValidData_cov)\n",
        "print(ValidData_cov.shape)\n",
        "rgb_valid_batch = np.repeat(ValidData_cov[..., np.newaxis], 3, -1)\n",
        "print(rgb_valid_batch.shape)\n",
        "resized_valid = np.ndarray(shape=(rgb_valid_batch.shape[0],IMG_HEIGHT,IMG_WIDTH,CHANNAL))\n",
        "for rec in range(rgb_valid_batch.shape[0]):\n",
        "    resized_valid[rec] = cv2.resize(rgb_valid_batch[rec], (IMG_HEIGHT,IMG_WIDTH),interpolation = cv2.INTER_AREA)\n",
        "print(resized_valid.shape)"
      ],
      "metadata": {
        "colab": {
          "base_uri": "https://localhost:8080/"
        },
        "id": "-zbqo8ULt8gT",
        "outputId": "840a41b4-ec88-44d0-e519-84ac03c87866"
      },
      "execution_count": null,
      "outputs": [
        {
          "output_type": "stream",
          "name": "stdout",
          "text": [
            "(204, 22, 22)\n",
            "(204, 22, 22, 3)\n",
            "(204, 32, 32, 3)\n"
          ]
        }
      ]
    },
    {
      "cell_type": "code",
      "source": [
        "TestData_cov=[]\n",
        "for i in range(TestData.shape[0]):\n",
        "  cov=np.cov(TestData[i])\n",
        "  TestData_cov.append(cov)\n",
        "TestData_cov=np.array(TestData_cov)\n",
        "print(TestData_cov.shape)\n",
        "rgb_test_batch = np.repeat(TestData_cov[..., np.newaxis], 3, -1)\n",
        "print(rgb_test_batch.shape)\n",
        "resized_test = np.ndarray(shape=(rgb_test_batch.shape[0],IMG_HEIGHT,IMG_WIDTH,CHANNAL))\n",
        "for rec in range(rgb_test_batch.shape[0]):\n",
        "    resized_test[rec] = cv2.resize(rgb_test_batch[rec], (IMG_HEIGHT,IMG_WIDTH),interpolation = cv2.INTER_AREA)\n",
        "print(resized_test.shape)"
      ],
      "metadata": {
        "colab": {
          "base_uri": "https://localhost:8080/"
        },
        "id": "8siwGyDfuv3C",
        "outputId": "2fb413a6-f556-4122-9fb3-d82a41bfef36"
      },
      "execution_count": null,
      "outputs": [
        {
          "output_type": "stream",
          "name": "stdout",
          "text": [
            "(24, 22, 22)\n",
            "(24, 22, 22, 3)\n",
            "(24, 32, 32, 3)\n"
          ]
        }
      ]
    },
    {
      "cell_type": "code",
      "source": [
        "TrainLabel1     = TrainLabel\n",
        "ValidLabel1  = ValidLabel\n",
        "TestLabel1  = TestLabel\n"
      ],
      "metadata": {
        "id": "_M6d60dPxgS2"
      },
      "execution_count": null,
      "outputs": []
    },
    {
      "cell_type": "code",
      "execution_count": null,
      "metadata": {
        "id": "1nAw10QDzJrc"
      },
      "outputs": [],
      "source": [
        "from tensorflow.keras.models import Sequential\n",
        "resnet_model = Sequential()\n",
        "\n",
        "pretrained_model= tf.keras.applications.ResNet50(include_top=False,\n",
        "                   input_shape=(32,32,3),\n",
        "                   classes=4,\n",
        "                   weights='imagenet')\n",
        "for layer in pretrained_model.layers:\n",
        "        layer.trainable=False\n",
        "resnet_model.add(pretrained_model)\n"
      ]
    },
    {
      "cell_type": "code",
      "source": [
        "resnet_model.add(Flatten())\n",
        "#resnet_model.add(Dense(512, activation='relu'))\n",
        "resnet_model.add(Dense(128, activation='relu'))\n",
        "resnet_model.add(Dense(64, activation='relu'))\n",
        "resnet_model.add(Dense(4, activation='softmax'))"
      ],
      "metadata": {
        "id": "dqXBzJ2cwGyk"
      },
      "execution_count": null,
      "outputs": []
    },
    {
      "cell_type": "code",
      "execution_count": null,
      "metadata": {
        "id": "_1WvbCi6WVcn",
        "colab": {
          "base_uri": "https://localhost:8080/"
        },
        "outputId": "8aa9846f-883b-4ff4-f063-faa71a8f82e8"
      },
      "outputs": [
        {
          "output_type": "stream",
          "name": "stdout",
          "text": [
            "Epoch 1/250\n"
          ]
        },
        {
          "output_type": "stream",
          "name": "stderr",
          "text": [
            "/usr/local/lib/python3.7/dist-packages/tensorflow/python/util/dispatch.py:1082: UserWarning: \"`sparse_categorical_crossentropy` received `from_logits=True`, but the `output` argument was produced by a sigmoid or softmax activation and thus does not represent logits. Was this intended?\"\n",
            "  return dispatch_target(*args, **kwargs)\n"
          ]
        },
        {
          "output_type": "stream",
          "name": "stdout",
          "text": [
            "6/6 [==============================] - 9s 595ms/step - loss: 1.5666 - accuracy: 0.2441 - val_loss: 1.4768 - val_accuracy: 0.2451\n",
            "Epoch 2/250\n",
            "6/6 [==============================] - 0s 41ms/step - loss: 1.4632 - accuracy: 0.2206 - val_loss: 1.4332 - val_accuracy: 0.1961\n",
            "Epoch 3/250\n",
            "6/6 [==============================] - 0s 56ms/step - loss: 1.4026 - accuracy: 0.2735 - val_loss: 1.3901 - val_accuracy: 0.2843\n",
            "Epoch 4/250\n",
            "6/6 [==============================] - 0s 38ms/step - loss: 1.4213 - accuracy: 0.2382 - val_loss: 1.4420 - val_accuracy: 0.2451\n",
            "Epoch 5/250\n",
            "6/6 [==============================] - 0s 55ms/step - loss: 1.4034 - accuracy: 0.2559 - val_loss: 1.3658 - val_accuracy: 0.3333\n",
            "Epoch 6/250\n",
            "6/6 [==============================] - 0s 44ms/step - loss: 1.3969 - accuracy: 0.2882 - val_loss: 1.3615 - val_accuracy: 0.3431\n",
            "Epoch 7/250\n",
            "6/6 [==============================] - 0s 39ms/step - loss: 1.3725 - accuracy: 0.2618 - val_loss: 1.3734 - val_accuracy: 0.3578\n",
            "Epoch 8/250\n",
            "6/6 [==============================] - 0s 38ms/step - loss: 1.3689 - accuracy: 0.3147 - val_loss: 1.3810 - val_accuracy: 0.3137\n",
            "Epoch 9/250\n",
            "6/6 [==============================] - 0s 57ms/step - loss: 1.3788 - accuracy: 0.3000 - val_loss: 1.3441 - val_accuracy: 0.3186\n",
            "Epoch 10/250\n",
            "6/6 [==============================] - 0s 37ms/step - loss: 1.3581 - accuracy: 0.3618 - val_loss: 1.3487 - val_accuracy: 0.3431\n",
            "Epoch 11/250\n",
            "6/6 [==============================] - 0s 50ms/step - loss: 1.3673 - accuracy: 0.3147 - val_loss: 1.3774 - val_accuracy: 0.2794\n",
            "Epoch 12/250\n",
            "6/6 [==============================] - 0s 64ms/step - loss: 1.3676 - accuracy: 0.3059 - val_loss: 1.3353 - val_accuracy: 0.3529\n",
            "Epoch 13/250\n",
            "6/6 [==============================] - 0s 51ms/step - loss: 1.3504 - accuracy: 0.3500 - val_loss: 1.3799 - val_accuracy: 0.2500\n",
            "Epoch 14/250\n",
            "6/6 [==============================] - 0s 44ms/step - loss: 1.3565 - accuracy: 0.2765 - val_loss: 1.3379 - val_accuracy: 0.3676\n",
            "Epoch 15/250\n",
            "6/6 [==============================] - 0s 49ms/step - loss: 1.3469 - accuracy: 0.3559 - val_loss: 1.3236 - val_accuracy: 0.3971\n",
            "Epoch 16/250\n",
            "6/6 [==============================] - 0s 39ms/step - loss: 1.3609 - accuracy: 0.3324 - val_loss: 1.3674 - val_accuracy: 0.2941\n",
            "Epoch 17/250\n",
            "6/6 [==============================] - 0s 44ms/step - loss: 1.3416 - accuracy: 0.3647 - val_loss: 1.3444 - val_accuracy: 0.3480\n",
            "Epoch 18/250\n",
            "6/6 [==============================] - 0s 62ms/step - loss: 1.3579 - accuracy: 0.3206 - val_loss: 1.3225 - val_accuracy: 0.4069\n",
            "Epoch 19/250\n",
            "6/6 [==============================] - 0s 61ms/step - loss: 1.3329 - accuracy: 0.3824 - val_loss: 1.3870 - val_accuracy: 0.2647\n",
            "Epoch 20/250\n",
            "6/6 [==============================] - 0s 55ms/step - loss: 1.3692 - accuracy: 0.3059 - val_loss: 1.3175 - val_accuracy: 0.3873\n",
            "Epoch 21/250\n",
            "6/6 [==============================] - 0s 52ms/step - loss: 1.3369 - accuracy: 0.3265 - val_loss: 1.3581 - val_accuracy: 0.2843\n",
            "Epoch 22/250\n",
            "6/6 [==============================] - 0s 42ms/step - loss: 1.3731 - accuracy: 0.3206 - val_loss: 1.3375 - val_accuracy: 0.3480\n",
            "Epoch 23/250\n",
            "6/6 [==============================] - 0s 42ms/step - loss: 1.3555 - accuracy: 0.3118 - val_loss: 1.3401 - val_accuracy: 0.3431\n",
            "Epoch 24/250\n",
            "6/6 [==============================] - 0s 38ms/step - loss: 1.3361 - accuracy: 0.3765 - val_loss: 1.3577 - val_accuracy: 0.2941\n",
            "Epoch 25/250\n",
            "6/6 [==============================] - 0s 55ms/step - loss: 1.3379 - accuracy: 0.3059 - val_loss: 1.3372 - val_accuracy: 0.3775\n",
            "Epoch 26/250\n",
            "6/6 [==============================] - 0s 57ms/step - loss: 1.3624 - accuracy: 0.3706 - val_loss: 1.3953 - val_accuracy: 0.2549\n",
            "Epoch 27/250\n",
            "6/6 [==============================] - 0s 51ms/step - loss: 1.3534 - accuracy: 0.3529 - val_loss: 1.3630 - val_accuracy: 0.2402\n",
            "Epoch 28/250\n",
            "6/6 [==============================] - 0s 53ms/step - loss: 1.3260 - accuracy: 0.3206 - val_loss: 1.2961 - val_accuracy: 0.3824\n",
            "Epoch 29/250\n",
            "6/6 [==============================] - 0s 63ms/step - loss: 1.3040 - accuracy: 0.3853 - val_loss: 1.3274 - val_accuracy: 0.3431\n",
            "Epoch 30/250\n",
            "6/6 [==============================] - 0s 40ms/step - loss: 1.3056 - accuracy: 0.3676 - val_loss: 1.2907 - val_accuracy: 0.4118\n",
            "Epoch 31/250\n",
            "6/6 [==============================] - 0s 40ms/step - loss: 1.2937 - accuracy: 0.3912 - val_loss: 1.2999 - val_accuracy: 0.3725\n",
            "Epoch 32/250\n",
            "6/6 [==============================] - 0s 39ms/step - loss: 1.3363 - accuracy: 0.3353 - val_loss: 1.4517 - val_accuracy: 0.2647\n",
            "Epoch 33/250\n",
            "6/6 [==============================] - 0s 38ms/step - loss: 1.3595 - accuracy: 0.2971 - val_loss: 1.3003 - val_accuracy: 0.4216\n",
            "Epoch 34/250\n",
            "6/6 [==============================] - 0s 40ms/step - loss: 1.2876 - accuracy: 0.4147 - val_loss: 1.3121 - val_accuracy: 0.3725\n",
            "Epoch 35/250\n",
            "6/6 [==============================] - 0s 40ms/step - loss: 1.2883 - accuracy: 0.3912 - val_loss: 1.2885 - val_accuracy: 0.4020\n",
            "Epoch 36/250\n",
            "6/6 [==============================] - 0s 38ms/step - loss: 1.2993 - accuracy: 0.3529 - val_loss: 1.2764 - val_accuracy: 0.4216\n",
            "Epoch 37/250\n",
            "6/6 [==============================] - 0s 44ms/step - loss: 1.3182 - accuracy: 0.3794 - val_loss: 1.3841 - val_accuracy: 0.2500\n",
            "Epoch 38/250\n",
            "6/6 [==============================] - 0s 46ms/step - loss: 1.3041 - accuracy: 0.3529 - val_loss: 1.2883 - val_accuracy: 0.3824\n",
            "Epoch 39/250\n",
            "6/6 [==============================] - 0s 59ms/step - loss: 1.2835 - accuracy: 0.4059 - val_loss: 1.3097 - val_accuracy: 0.3725\n",
            "Epoch 40/250\n",
            "6/6 [==============================] - 0s 57ms/step - loss: 1.2715 - accuracy: 0.3971 - val_loss: 1.3054 - val_accuracy: 0.3480\n",
            "Epoch 41/250\n",
            "6/6 [==============================] - 0s 46ms/step - loss: 1.2977 - accuracy: 0.3441 - val_loss: 1.3292 - val_accuracy: 0.3088\n",
            "Epoch 42/250\n",
            "6/6 [==============================] - 0s 47ms/step - loss: 1.3047 - accuracy: 0.3676 - val_loss: 1.3744 - val_accuracy: 0.3480\n",
            "Epoch 43/250\n",
            "6/6 [==============================] - 0s 61ms/step - loss: 1.2953 - accuracy: 0.3765 - val_loss: 1.2654 - val_accuracy: 0.3922\n",
            "Epoch 44/250\n",
            "6/6 [==============================] - 0s 56ms/step - loss: 1.2974 - accuracy: 0.3471 - val_loss: 1.2649 - val_accuracy: 0.4069\n",
            "Epoch 45/250\n",
            "6/6 [==============================] - 0s 60ms/step - loss: 1.2781 - accuracy: 0.4235 - val_loss: 1.2956 - val_accuracy: 0.4069\n",
            "Epoch 46/250\n",
            "6/6 [==============================] - 0s 47ms/step - loss: 1.2533 - accuracy: 0.4235 - val_loss: 1.2756 - val_accuracy: 0.4020\n",
            "Epoch 47/250\n",
            "6/6 [==============================] - 0s 49ms/step - loss: 1.2681 - accuracy: 0.3853 - val_loss: 1.2607 - val_accuracy: 0.4118\n",
            "Epoch 48/250\n",
            "6/6 [==============================] - 0s 42ms/step - loss: 1.2624 - accuracy: 0.4118 - val_loss: 1.2551 - val_accuracy: 0.4216\n",
            "Epoch 49/250\n",
            "6/6 [==============================] - 0s 53ms/step - loss: 1.2619 - accuracy: 0.3794 - val_loss: 1.2787 - val_accuracy: 0.4363\n",
            "Epoch 50/250\n",
            "6/6 [==============================] - 0s 45ms/step - loss: 1.2669 - accuracy: 0.3912 - val_loss: 1.2447 - val_accuracy: 0.4510\n",
            "Epoch 51/250\n",
            "6/6 [==============================] - 0s 54ms/step - loss: 1.2859 - accuracy: 0.3529 - val_loss: 1.3787 - val_accuracy: 0.3137\n",
            "Epoch 52/250\n",
            "6/6 [==============================] - 0s 46ms/step - loss: 1.2762 - accuracy: 0.3824 - val_loss: 1.2788 - val_accuracy: 0.4020\n",
            "Epoch 53/250\n",
            "6/6 [==============================] - 0s 65ms/step - loss: 1.2562 - accuracy: 0.4412 - val_loss: 1.2775 - val_accuracy: 0.3873\n",
            "Epoch 54/250\n",
            "6/6 [==============================] - 0s 72ms/step - loss: 1.2781 - accuracy: 0.3941 - val_loss: 1.2409 - val_accuracy: 0.4657\n",
            "Epoch 55/250\n",
            "6/6 [==============================] - 0s 60ms/step - loss: 1.2503 - accuracy: 0.4088 - val_loss: 1.3466 - val_accuracy: 0.3186\n",
            "Epoch 56/250\n",
            "6/6 [==============================] - 0s 51ms/step - loss: 1.2777 - accuracy: 0.3794 - val_loss: 1.3965 - val_accuracy: 0.3186\n",
            "Epoch 57/250\n",
            "6/6 [==============================] - 0s 52ms/step - loss: 1.3448 - accuracy: 0.3235 - val_loss: 1.2827 - val_accuracy: 0.3627\n",
            "Epoch 58/250\n",
            "6/6 [==============================] - 0s 52ms/step - loss: 1.2708 - accuracy: 0.4088 - val_loss: 1.3411 - val_accuracy: 0.3039\n",
            "Epoch 59/250\n",
            "6/6 [==============================] - 0s 39ms/step - loss: 1.3005 - accuracy: 0.4029 - val_loss: 1.3292 - val_accuracy: 0.3725\n",
            "Epoch 60/250\n",
            "6/6 [==============================] - 0s 40ms/step - loss: 1.2661 - accuracy: 0.4294 - val_loss: 1.2374 - val_accuracy: 0.4167\n",
            "Epoch 61/250\n",
            "6/6 [==============================] - 0s 52ms/step - loss: 1.2382 - accuracy: 0.4412 - val_loss: 1.3214 - val_accuracy: 0.3627\n",
            "Epoch 62/250\n",
            "6/6 [==============================] - 0s 60ms/step - loss: 1.2498 - accuracy: 0.4147 - val_loss: 1.2515 - val_accuracy: 0.4853\n",
            "Epoch 63/250\n",
            "6/6 [==============================] - 0s 53ms/step - loss: 1.2505 - accuracy: 0.3853 - val_loss: 1.3114 - val_accuracy: 0.3431\n",
            "Epoch 64/250\n",
            "6/6 [==============================] - 0s 56ms/step - loss: 1.3282 - accuracy: 0.3882 - val_loss: 1.2644 - val_accuracy: 0.4314\n",
            "Epoch 65/250\n",
            "6/6 [==============================] - 0s 41ms/step - loss: 1.2363 - accuracy: 0.4294 - val_loss: 1.3534 - val_accuracy: 0.3627\n",
            "Epoch 66/250\n",
            "6/6 [==============================] - 0s 37ms/step - loss: 1.3035 - accuracy: 0.3676 - val_loss: 1.2386 - val_accuracy: 0.4020\n",
            "Epoch 67/250\n",
            "6/6 [==============================] - 0s 31ms/step - loss: 1.2708 - accuracy: 0.4235 - val_loss: 1.2412 - val_accuracy: 0.4363\n",
            "Epoch 68/250\n",
            "6/6 [==============================] - 0s 32ms/step - loss: 1.2437 - accuracy: 0.4324 - val_loss: 1.2906 - val_accuracy: 0.4020\n",
            "Epoch 69/250\n",
            "6/6 [==============================] - 0s 30ms/step - loss: 1.2659 - accuracy: 0.3912 - val_loss: 1.3902 - val_accuracy: 0.3333\n",
            "Epoch 70/250\n",
            "6/6 [==============================] - 0s 30ms/step - loss: 1.3136 - accuracy: 0.3647 - val_loss: 1.2409 - val_accuracy: 0.4118\n",
            "Epoch 71/250\n",
            "6/6 [==============================] - 0s 29ms/step - loss: 1.2503 - accuracy: 0.4588 - val_loss: 1.2557 - val_accuracy: 0.4657\n",
            "Epoch 72/250\n",
            "6/6 [==============================] - 0s 29ms/step - loss: 1.2347 - accuracy: 0.4206 - val_loss: 1.3593 - val_accuracy: 0.3333\n",
            "Epoch 73/250\n",
            "6/6 [==============================] - 0s 32ms/step - loss: 1.2517 - accuracy: 0.4206 - val_loss: 1.2753 - val_accuracy: 0.3725\n",
            "Epoch 74/250\n",
            "6/6 [==============================] - 0s 30ms/step - loss: 1.2633 - accuracy: 0.3971 - val_loss: 1.2514 - val_accuracy: 0.4314\n",
            "Epoch 75/250\n",
            "6/6 [==============================] - 0s 29ms/step - loss: 1.2509 - accuracy: 0.4235 - val_loss: 1.2884 - val_accuracy: 0.4020\n",
            "Epoch 76/250\n",
            "6/6 [==============================] - 0s 29ms/step - loss: 1.2586 - accuracy: 0.4059 - val_loss: 1.2221 - val_accuracy: 0.4216\n",
            "Epoch 77/250\n",
            "6/6 [==============================] - 0s 29ms/step - loss: 1.2588 - accuracy: 0.3647 - val_loss: 1.2206 - val_accuracy: 0.4559\n",
            "Epoch 78/250\n",
            "6/6 [==============================] - 0s 32ms/step - loss: 1.2404 - accuracy: 0.4265 - val_loss: 1.2213 - val_accuracy: 0.4265\n",
            "Epoch 79/250\n",
            "6/6 [==============================] - 0s 32ms/step - loss: 1.2611 - accuracy: 0.4265 - val_loss: 1.2957 - val_accuracy: 0.3725\n",
            "Epoch 80/250\n",
            "6/6 [==============================] - 0s 31ms/step - loss: 1.2382 - accuracy: 0.4147 - val_loss: 1.2450 - val_accuracy: 0.4265\n",
            "Epoch 81/250\n",
            "6/6 [==============================] - 0s 33ms/step - loss: 1.2192 - accuracy: 0.4529 - val_loss: 1.2561 - val_accuracy: 0.4363\n",
            "Epoch 82/250\n",
            "6/6 [==============================] - 0s 29ms/step - loss: 1.2373 - accuracy: 0.4206 - val_loss: 1.2855 - val_accuracy: 0.3922\n",
            "Epoch 83/250\n",
            "6/6 [==============================] - 0s 30ms/step - loss: 1.2175 - accuracy: 0.4235 - val_loss: 1.2157 - val_accuracy: 0.4167\n",
            "Epoch 84/250\n",
            "6/6 [==============================] - 0s 29ms/step - loss: 1.2376 - accuracy: 0.4088 - val_loss: 1.2132 - val_accuracy: 0.4804\n",
            "Epoch 85/250\n",
            "6/6 [==============================] - 0s 29ms/step - loss: 1.2074 - accuracy: 0.4412 - val_loss: 1.2148 - val_accuracy: 0.4069\n",
            "Epoch 86/250\n",
            "6/6 [==============================] - 0s 31ms/step - loss: 1.2153 - accuracy: 0.4206 - val_loss: 1.2963 - val_accuracy: 0.3824\n",
            "Epoch 87/250\n",
            "6/6 [==============================] - 0s 29ms/step - loss: 1.2208 - accuracy: 0.4412 - val_loss: 1.3674 - val_accuracy: 0.3627\n",
            "Epoch 88/250\n",
            "6/6 [==============================] - 0s 31ms/step - loss: 1.2792 - accuracy: 0.4176 - val_loss: 1.2074 - val_accuracy: 0.4510\n",
            "Epoch 89/250\n",
            "6/6 [==============================] - 0s 31ms/step - loss: 1.2423 - accuracy: 0.4294 - val_loss: 1.2116 - val_accuracy: 0.4608\n",
            "Epoch 90/250\n",
            "6/6 [==============================] - 0s 29ms/step - loss: 1.2111 - accuracy: 0.4647 - val_loss: 1.3272 - val_accuracy: 0.3235\n",
            "Epoch 91/250\n",
            "6/6 [==============================] - 0s 29ms/step - loss: 1.2456 - accuracy: 0.4029 - val_loss: 1.4038 - val_accuracy: 0.2941\n",
            "Epoch 92/250\n",
            "6/6 [==============================] - 0s 31ms/step - loss: 1.2896 - accuracy: 0.4029 - val_loss: 1.2031 - val_accuracy: 0.4412\n",
            "Epoch 93/250\n",
            "6/6 [==============================] - 0s 30ms/step - loss: 1.2186 - accuracy: 0.4706 - val_loss: 1.2070 - val_accuracy: 0.4559\n",
            "Epoch 94/250\n",
            "6/6 [==============================] - 0s 29ms/step - loss: 1.1945 - accuracy: 0.4500 - val_loss: 1.2418 - val_accuracy: 0.4314\n",
            "Epoch 95/250\n",
            "6/6 [==============================] - 0s 29ms/step - loss: 1.2247 - accuracy: 0.4559 - val_loss: 1.2517 - val_accuracy: 0.4216\n",
            "Epoch 96/250\n",
            "6/6 [==============================] - 0s 29ms/step - loss: 1.2271 - accuracy: 0.4500 - val_loss: 1.2255 - val_accuracy: 0.4265\n",
            "Epoch 97/250\n",
            "6/6 [==============================] - 0s 32ms/step - loss: 1.1887 - accuracy: 0.4765 - val_loss: 1.2222 - val_accuracy: 0.4461\n",
            "Epoch 98/250\n",
            "6/6 [==============================] - 0s 29ms/step - loss: 1.2047 - accuracy: 0.4441 - val_loss: 1.2093 - val_accuracy: 0.4608\n",
            "Epoch 99/250\n",
            "6/6 [==============================] - 0s 29ms/step - loss: 1.2005 - accuracy: 0.4529 - val_loss: 1.2381 - val_accuracy: 0.3922\n",
            "Epoch 100/250\n",
            "6/6 [==============================] - 0s 29ms/step - loss: 1.2368 - accuracy: 0.4118 - val_loss: 1.2070 - val_accuracy: 0.4510\n",
            "Epoch 101/250\n",
            "6/6 [==============================] - 0s 31ms/step - loss: 1.2491 - accuracy: 0.4147 - val_loss: 1.1970 - val_accuracy: 0.4706\n",
            "Epoch 102/250\n",
            "6/6 [==============================] - 0s 29ms/step - loss: 1.2001 - accuracy: 0.4559 - val_loss: 1.2351 - val_accuracy: 0.4461\n",
            "Epoch 103/250\n",
            "6/6 [==============================] - 0s 32ms/step - loss: 1.2081 - accuracy: 0.4265 - val_loss: 1.2740 - val_accuracy: 0.3971\n",
            "Epoch 104/250\n",
            "6/6 [==============================] - 0s 30ms/step - loss: 1.2107 - accuracy: 0.4353 - val_loss: 1.3062 - val_accuracy: 0.4020\n",
            "Epoch 105/250\n",
            "6/6 [==============================] - 0s 29ms/step - loss: 1.2255 - accuracy: 0.4353 - val_loss: 1.1996 - val_accuracy: 0.4265\n",
            "Epoch 106/250\n",
            "6/6 [==============================] - 0s 31ms/step - loss: 1.1846 - accuracy: 0.5000 - val_loss: 1.2047 - val_accuracy: 0.4510\n",
            "Epoch 107/250\n",
            "6/6 [==============================] - 0s 32ms/step - loss: 1.1867 - accuracy: 0.4618 - val_loss: 1.3101 - val_accuracy: 0.3529\n",
            "Epoch 108/250\n",
            "6/6 [==============================] - 0s 30ms/step - loss: 1.1928 - accuracy: 0.4500 - val_loss: 1.1983 - val_accuracy: 0.4902\n",
            "Epoch 109/250\n",
            "6/6 [==============================] - 0s 31ms/step - loss: 1.2140 - accuracy: 0.4353 - val_loss: 1.2005 - val_accuracy: 0.4657\n",
            "Epoch 110/250\n",
            "6/6 [==============================] - 0s 29ms/step - loss: 1.1888 - accuracy: 0.5088 - val_loss: 1.1864 - val_accuracy: 0.4706\n",
            "Epoch 111/250\n",
            "6/6 [==============================] - 0s 33ms/step - loss: 1.1641 - accuracy: 0.4676 - val_loss: 1.3576 - val_accuracy: 0.3333\n",
            "Epoch 112/250\n",
            "6/6 [==============================] - 0s 30ms/step - loss: 1.2189 - accuracy: 0.4471 - val_loss: 1.2564 - val_accuracy: 0.3971\n",
            "Epoch 113/250\n",
            "6/6 [==============================] - 0s 29ms/step - loss: 1.1919 - accuracy: 0.4441 - val_loss: 1.1900 - val_accuracy: 0.4559\n",
            "Epoch 114/250\n",
            "6/6 [==============================] - 0s 30ms/step - loss: 1.1804 - accuracy: 0.4735 - val_loss: 1.2090 - val_accuracy: 0.4510\n",
            "Epoch 115/250\n",
            "6/6 [==============================] - 0s 31ms/step - loss: 1.2335 - accuracy: 0.4441 - val_loss: 1.1781 - val_accuracy: 0.4657\n",
            "Epoch 116/250\n",
            "6/6 [==============================] - 0s 30ms/step - loss: 1.1792 - accuracy: 0.4853 - val_loss: 1.2164 - val_accuracy: 0.4314\n",
            "Epoch 117/250\n",
            "6/6 [==============================] - 0s 30ms/step - loss: 1.1610 - accuracy: 0.4794 - val_loss: 1.1976 - val_accuracy: 0.4706\n",
            "Epoch 118/250\n",
            "6/6 [==============================] - 0s 31ms/step - loss: 1.1700 - accuracy: 0.5029 - val_loss: 1.2488 - val_accuracy: 0.4069\n",
            "Epoch 119/250\n",
            "6/6 [==============================] - 0s 32ms/step - loss: 1.2077 - accuracy: 0.4441 - val_loss: 1.1736 - val_accuracy: 0.4804\n",
            "Epoch 120/250\n",
            "6/6 [==============================] - 0s 30ms/step - loss: 1.1731 - accuracy: 0.4735 - val_loss: 1.1914 - val_accuracy: 0.4804\n",
            "Epoch 121/250\n",
            "6/6 [==============================] - 0s 32ms/step - loss: 1.1628 - accuracy: 0.4853 - val_loss: 1.2070 - val_accuracy: 0.4363\n",
            "Epoch 122/250\n",
            "6/6 [==============================] - 0s 29ms/step - loss: 1.1793 - accuracy: 0.4529 - val_loss: 1.2655 - val_accuracy: 0.4265\n",
            "Epoch 123/250\n",
            "6/6 [==============================] - 0s 30ms/step - loss: 1.2107 - accuracy: 0.4588 - val_loss: 1.1994 - val_accuracy: 0.4559\n",
            "Epoch 124/250\n",
            "6/6 [==============================] - 0s 29ms/step - loss: 1.1754 - accuracy: 0.4735 - val_loss: 1.1961 - val_accuracy: 0.4559\n",
            "Epoch 125/250\n",
            "6/6 [==============================] - 0s 30ms/step - loss: 1.1798 - accuracy: 0.4735 - val_loss: 1.1762 - val_accuracy: 0.4755\n",
            "Epoch 126/250\n",
            "6/6 [==============================] - 0s 31ms/step - loss: 1.1577 - accuracy: 0.4824 - val_loss: 1.1697 - val_accuracy: 0.4755\n",
            "Epoch 127/250\n",
            "6/6 [==============================] - 0s 30ms/step - loss: 1.1534 - accuracy: 0.4882 - val_loss: 1.2173 - val_accuracy: 0.4706\n",
            "Epoch 128/250\n",
            "6/6 [==============================] - 0s 32ms/step - loss: 1.1688 - accuracy: 0.5029 - val_loss: 1.1755 - val_accuracy: 0.4853\n",
            "Epoch 129/250\n",
            "6/6 [==============================] - 0s 29ms/step - loss: 1.2396 - accuracy: 0.4118 - val_loss: 1.2454 - val_accuracy: 0.4363\n",
            "Epoch 130/250\n",
            "6/6 [==============================] - 0s 29ms/step - loss: 1.2060 - accuracy: 0.4559 - val_loss: 1.3533 - val_accuracy: 0.3284\n",
            "Epoch 131/250\n",
            "6/6 [==============================] - 0s 32ms/step - loss: 1.1716 - accuracy: 0.4765 - val_loss: 1.1760 - val_accuracy: 0.4804\n",
            "Epoch 132/250\n",
            "6/6 [==============================] - 0s 33ms/step - loss: 1.1853 - accuracy: 0.4735 - val_loss: 1.1656 - val_accuracy: 0.4951\n",
            "Epoch 133/250\n",
            "6/6 [==============================] - 0s 30ms/step - loss: 1.1832 - accuracy: 0.4676 - val_loss: 1.2492 - val_accuracy: 0.4118\n",
            "Epoch 134/250\n",
            "6/6 [==============================] - 0s 30ms/step - loss: 1.2285 - accuracy: 0.4471 - val_loss: 1.2248 - val_accuracy: 0.4118\n",
            "Epoch 135/250\n",
            "6/6 [==============================] - 0s 29ms/step - loss: 1.1911 - accuracy: 0.4412 - val_loss: 1.4017 - val_accuracy: 0.3676\n",
            "Epoch 136/250\n",
            "6/6 [==============================] - 0s 29ms/step - loss: 1.2235 - accuracy: 0.4794 - val_loss: 1.2187 - val_accuracy: 0.4461\n",
            "Epoch 137/250\n",
            "6/6 [==============================] - 0s 30ms/step - loss: 1.1942 - accuracy: 0.4441 - val_loss: 1.1894 - val_accuracy: 0.4510\n",
            "Epoch 138/250\n",
            "6/6 [==============================] - 0s 31ms/step - loss: 1.1684 - accuracy: 0.4676 - val_loss: 1.2640 - val_accuracy: 0.3775\n",
            "Epoch 139/250\n",
            "6/6 [==============================] - 0s 30ms/step - loss: 1.1598 - accuracy: 0.4647 - val_loss: 1.1839 - val_accuracy: 0.4755\n",
            "Epoch 140/250\n",
            "6/6 [==============================] - 0s 31ms/step - loss: 1.1731 - accuracy: 0.4559 - val_loss: 1.3743 - val_accuracy: 0.4069\n",
            "Epoch 141/250\n",
            "6/6 [==============================] - 0s 30ms/step - loss: 1.2444 - accuracy: 0.4147 - val_loss: 1.3761 - val_accuracy: 0.3775\n",
            "Epoch 142/250\n",
            "6/6 [==============================] - 0s 30ms/step - loss: 1.2163 - accuracy: 0.4824 - val_loss: 1.2680 - val_accuracy: 0.3873\n",
            "Epoch 143/250\n",
            "6/6 [==============================] - 0s 33ms/step - loss: 1.2315 - accuracy: 0.4088 - val_loss: 1.1983 - val_accuracy: 0.4755\n",
            "Epoch 144/250\n",
            "6/6 [==============================] - 0s 32ms/step - loss: 1.2329 - accuracy: 0.4000 - val_loss: 1.2559 - val_accuracy: 0.3333\n",
            "Epoch 145/250\n",
            "6/6 [==============================] - 0s 31ms/step - loss: 1.1857 - accuracy: 0.4412 - val_loss: 1.2194 - val_accuracy: 0.4363\n",
            "Epoch 146/250\n",
            "6/6 [==============================] - 0s 29ms/step - loss: 1.1786 - accuracy: 0.4706 - val_loss: 1.1864 - val_accuracy: 0.4461\n",
            "Epoch 147/250\n",
            "6/6 [==============================] - 0s 29ms/step - loss: 1.2263 - accuracy: 0.4441 - val_loss: 1.2550 - val_accuracy: 0.4216\n",
            "Epoch 148/250\n",
            "6/6 [==============================] - 0s 30ms/step - loss: 1.2485 - accuracy: 0.4000 - val_loss: 1.2307 - val_accuracy: 0.4608\n",
            "Epoch 149/250\n",
            "6/6 [==============================] - 0s 32ms/step - loss: 1.1589 - accuracy: 0.4941 - val_loss: 1.3208 - val_accuracy: 0.4020\n",
            "Epoch 150/250\n",
            "6/6 [==============================] - 0s 30ms/step - loss: 1.2389 - accuracy: 0.4294 - val_loss: 1.3548 - val_accuracy: 0.3676\n",
            "Epoch 151/250\n",
            "6/6 [==============================] - 0s 30ms/step - loss: 1.2999 - accuracy: 0.3882 - val_loss: 1.2458 - val_accuracy: 0.4020\n",
            "Epoch 152/250\n",
            "6/6 [==============================] - 0s 29ms/step - loss: 1.3324 - accuracy: 0.3441 - val_loss: 1.3117 - val_accuracy: 0.3529\n",
            "Epoch 153/250\n",
            "6/6 [==============================] - 0s 30ms/step - loss: 1.2921 - accuracy: 0.3529 - val_loss: 1.2407 - val_accuracy: 0.3775\n",
            "Epoch 154/250\n",
            "6/6 [==============================] - 0s 30ms/step - loss: 1.2752 - accuracy: 0.3647 - val_loss: 1.3006 - val_accuracy: 0.4167\n",
            "Epoch 155/250\n",
            "6/6 [==============================] - 0s 32ms/step - loss: 1.2055 - accuracy: 0.4559 - val_loss: 1.2312 - val_accuracy: 0.4167\n",
            "Epoch 156/250\n",
            "6/6 [==============================] - 0s 30ms/step - loss: 1.1819 - accuracy: 0.4647 - val_loss: 1.1970 - val_accuracy: 0.4412\n",
            "Epoch 157/250\n",
            "6/6 [==============================] - 0s 30ms/step - loss: 1.1840 - accuracy: 0.4412 - val_loss: 1.3010 - val_accuracy: 0.4167\n",
            "Epoch 158/250\n",
            "6/6 [==============================] - 0s 30ms/step - loss: 1.2012 - accuracy: 0.4588 - val_loss: 1.1945 - val_accuracy: 0.4657\n",
            "Epoch 159/250\n",
            "6/6 [==============================] - 0s 30ms/step - loss: 1.1947 - accuracy: 0.4441 - val_loss: 1.1976 - val_accuracy: 0.4461\n",
            "Epoch 160/250\n",
            "6/6 [==============================] - 0s 33ms/step - loss: 1.2179 - accuracy: 0.4529 - val_loss: 1.2075 - val_accuracy: 0.4216\n",
            "Epoch 161/250\n",
            "6/6 [==============================] - 0s 32ms/step - loss: 1.1866 - accuracy: 0.4471 - val_loss: 1.3066 - val_accuracy: 0.3627\n",
            "Epoch 162/250\n",
            "6/6 [==============================] - 0s 29ms/step - loss: 1.1938 - accuracy: 0.4500 - val_loss: 1.1836 - val_accuracy: 0.4608\n",
            "Epoch 163/250\n",
            "6/6 [==============================] - 0s 29ms/step - loss: 1.1717 - accuracy: 0.4735 - val_loss: 1.2633 - val_accuracy: 0.3971\n",
            "Epoch 164/250\n",
            "6/6 [==============================] - 0s 29ms/step - loss: 1.1838 - accuracy: 0.4618 - val_loss: 1.2793 - val_accuracy: 0.4020\n",
            "Epoch 165/250\n",
            "6/6 [==============================] - 0s 31ms/step - loss: 1.1681 - accuracy: 0.4676 - val_loss: 1.1984 - val_accuracy: 0.4657\n",
            "Epoch 166/250\n",
            "6/6 [==============================] - 0s 33ms/step - loss: 1.1762 - accuracy: 0.4706 - val_loss: 1.1955 - val_accuracy: 0.4559\n",
            "Epoch 167/250\n",
            "6/6 [==============================] - 0s 30ms/step - loss: 1.2099 - accuracy: 0.4412 - val_loss: 1.2766 - val_accuracy: 0.4118\n",
            "Epoch 168/250\n",
            "6/6 [==============================] - 0s 29ms/step - loss: 1.1838 - accuracy: 0.4647 - val_loss: 1.2251 - val_accuracy: 0.4069\n",
            "Epoch 169/250\n",
            "6/6 [==============================] - 0s 30ms/step - loss: 1.1780 - accuracy: 0.4441 - val_loss: 1.2654 - val_accuracy: 0.4118\n",
            "Epoch 170/250\n",
            "6/6 [==============================] - 0s 30ms/step - loss: 1.2764 - accuracy: 0.4265 - val_loss: 1.3505 - val_accuracy: 0.3235\n",
            "Epoch 171/250\n",
            "6/6 [==============================] - 0s 30ms/step - loss: 1.2058 - accuracy: 0.4294 - val_loss: 1.1958 - val_accuracy: 0.4510\n",
            "Epoch 172/250\n",
            "6/6 [==============================] - 0s 33ms/step - loss: 1.1566 - accuracy: 0.4765 - val_loss: 1.2256 - val_accuracy: 0.4363\n",
            "Epoch 173/250\n",
            "6/6 [==============================] - 0s 29ms/step - loss: 1.1469 - accuracy: 0.5029 - val_loss: 1.1676 - val_accuracy: 0.4559\n",
            "Epoch 174/250\n",
            "6/6 [==============================] - 0s 30ms/step - loss: 1.1556 - accuracy: 0.4794 - val_loss: 1.2215 - val_accuracy: 0.4412\n",
            "Epoch 175/250\n",
            "6/6 [==============================] - 0s 29ms/step - loss: 1.1391 - accuracy: 0.4853 - val_loss: 1.2446 - val_accuracy: 0.4020\n",
            "Epoch 176/250\n",
            "6/6 [==============================] - 0s 29ms/step - loss: 1.2114 - accuracy: 0.4088 - val_loss: 1.2354 - val_accuracy: 0.4069\n",
            "Epoch 177/250\n",
            "6/6 [==============================] - 0s 29ms/step - loss: 1.1364 - accuracy: 0.4912 - val_loss: 1.2055 - val_accuracy: 0.4657\n",
            "Epoch 178/250\n",
            "6/6 [==============================] - 0s 30ms/step - loss: 1.1303 - accuracy: 0.5088 - val_loss: 1.2395 - val_accuracy: 0.4069\n",
            "Epoch 179/250\n",
            "6/6 [==============================] - 0s 29ms/step - loss: 1.1474 - accuracy: 0.4882 - val_loss: 1.1744 - val_accuracy: 0.4853\n",
            "Epoch 180/250\n",
            "6/6 [==============================] - 0s 30ms/step - loss: 1.1345 - accuracy: 0.4647 - val_loss: 1.2192 - val_accuracy: 0.4265\n",
            "Epoch 181/250\n",
            "6/6 [==============================] - 0s 32ms/step - loss: 1.2101 - accuracy: 0.4412 - val_loss: 1.2311 - val_accuracy: 0.4853\n",
            "Epoch 182/250\n",
            "6/6 [==============================] - 0s 31ms/step - loss: 1.1338 - accuracy: 0.5029 - val_loss: 1.1782 - val_accuracy: 0.5098\n",
            "Epoch 183/250\n",
            "6/6 [==============================] - 0s 30ms/step - loss: 1.1665 - accuracy: 0.4618 - val_loss: 1.1648 - val_accuracy: 0.4804\n",
            "Epoch 184/250\n",
            "6/6 [==============================] - 0s 31ms/step - loss: 1.1387 - accuracy: 0.4618 - val_loss: 1.2157 - val_accuracy: 0.4608\n",
            "Epoch 185/250\n",
            "6/6 [==============================] - 0s 32ms/step - loss: 1.1470 - accuracy: 0.4882 - val_loss: 1.1611 - val_accuracy: 0.4951\n",
            "Epoch 186/250\n",
            "6/6 [==============================] - 0s 30ms/step - loss: 1.1212 - accuracy: 0.5176 - val_loss: 1.1710 - val_accuracy: 0.4804\n",
            "Epoch 187/250\n",
            "6/6 [==============================] - 0s 31ms/step - loss: 1.1073 - accuracy: 0.5441 - val_loss: 1.1444 - val_accuracy: 0.5000\n",
            "Epoch 188/250\n",
            "6/6 [==============================] - 0s 30ms/step - loss: 1.1258 - accuracy: 0.5000 - val_loss: 1.1846 - val_accuracy: 0.4510\n",
            "Epoch 189/250\n",
            "6/6 [==============================] - 0s 33ms/step - loss: 1.2058 - accuracy: 0.4824 - val_loss: 1.2269 - val_accuracy: 0.4461\n",
            "Epoch 190/250\n",
            "6/6 [==============================] - 0s 30ms/step - loss: 1.1461 - accuracy: 0.4765 - val_loss: 1.3165 - val_accuracy: 0.4216\n",
            "Epoch 191/250\n",
            "6/6 [==============================] - 0s 30ms/step - loss: 1.2144 - accuracy: 0.4735 - val_loss: 1.1950 - val_accuracy: 0.4216\n",
            "Epoch 192/250\n",
            "6/6 [==============================] - 0s 30ms/step - loss: 1.1423 - accuracy: 0.4824 - val_loss: 1.1630 - val_accuracy: 0.4804\n",
            "Epoch 193/250\n",
            "6/6 [==============================] - 0s 30ms/step - loss: 1.1343 - accuracy: 0.4853 - val_loss: 1.1736 - val_accuracy: 0.4804\n",
            "Epoch 194/250\n",
            "6/6 [==============================] - 0s 30ms/step - loss: 1.1642 - accuracy: 0.4647 - val_loss: 1.3665 - val_accuracy: 0.4069\n",
            "Epoch 195/250\n",
            "6/6 [==============================] - 0s 31ms/step - loss: 1.1740 - accuracy: 0.4853 - val_loss: 1.1764 - val_accuracy: 0.4559\n",
            "Epoch 196/250\n",
            "6/6 [==============================] - 0s 31ms/step - loss: 1.1494 - accuracy: 0.4706 - val_loss: 1.1710 - val_accuracy: 0.4755\n",
            "Epoch 197/250\n",
            "6/6 [==============================] - 0s 30ms/step - loss: 1.1177 - accuracy: 0.5176 - val_loss: 1.2106 - val_accuracy: 0.4657\n",
            "Epoch 198/250\n",
            "6/6 [==============================] - 0s 30ms/step - loss: 1.1745 - accuracy: 0.4794 - val_loss: 1.4143 - val_accuracy: 0.2892\n",
            "Epoch 199/250\n",
            "6/6 [==============================] - 0s 30ms/step - loss: 1.1865 - accuracy: 0.4412 - val_loss: 1.1869 - val_accuracy: 0.4461\n",
            "Epoch 200/250\n",
            "6/6 [==============================] - 0s 30ms/step - loss: 1.1827 - accuracy: 0.4294 - val_loss: 1.2521 - val_accuracy: 0.4461\n",
            "Epoch 201/250\n",
            "6/6 [==============================] - 0s 32ms/step - loss: 1.1957 - accuracy: 0.4206 - val_loss: 1.1770 - val_accuracy: 0.4902\n",
            "Epoch 202/250\n",
            "6/6 [==============================] - 0s 30ms/step - loss: 1.1443 - accuracy: 0.4618 - val_loss: 1.2911 - val_accuracy: 0.4069\n",
            "Epoch 203/250\n",
            "6/6 [==============================] - 0s 30ms/step - loss: 1.1452 - accuracy: 0.5088 - val_loss: 1.1584 - val_accuracy: 0.4559\n",
            "Epoch 204/250\n",
            "6/6 [==============================] - 0s 30ms/step - loss: 1.1425 - accuracy: 0.4559 - val_loss: 1.1405 - val_accuracy: 0.4853\n",
            "Epoch 205/250\n",
            "6/6 [==============================] - 0s 30ms/step - loss: 1.1358 - accuracy: 0.5265 - val_loss: 1.2918 - val_accuracy: 0.3775\n",
            "Epoch 206/250\n",
            "6/6 [==============================] - 0s 32ms/step - loss: 1.1663 - accuracy: 0.4735 - val_loss: 1.2249 - val_accuracy: 0.4412\n",
            "Epoch 207/250\n",
            "6/6 [==============================] - 0s 30ms/step - loss: 1.1367 - accuracy: 0.4794 - val_loss: 1.1782 - val_accuracy: 0.4657\n",
            "Epoch 208/250\n",
            "6/6 [==============================] - 0s 30ms/step - loss: 1.1199 - accuracy: 0.5088 - val_loss: 1.2100 - val_accuracy: 0.4559\n",
            "Epoch 209/250\n",
            "6/6 [==============================] - 0s 30ms/step - loss: 1.1325 - accuracy: 0.5000 - val_loss: 1.1748 - val_accuracy: 0.4755\n",
            "Epoch 210/250\n",
            "6/6 [==============================] - 0s 31ms/step - loss: 1.1475 - accuracy: 0.4824 - val_loss: 1.2970 - val_accuracy: 0.3824\n",
            "Epoch 211/250\n",
            "6/6 [==============================] - 0s 32ms/step - loss: 1.1162 - accuracy: 0.5147 - val_loss: 1.1568 - val_accuracy: 0.4804\n",
            "Epoch 212/250\n",
            "6/6 [==============================] - 0s 33ms/step - loss: 1.1264 - accuracy: 0.5088 - val_loss: 1.3826 - val_accuracy: 0.3382\n",
            "Epoch 213/250\n",
            "6/6 [==============================] - 0s 29ms/step - loss: 1.1793 - accuracy: 0.4559 - val_loss: 1.1579 - val_accuracy: 0.4951\n",
            "Epoch 214/250\n",
            "6/6 [==============================] - 0s 32ms/step - loss: 1.0884 - accuracy: 0.5353 - val_loss: 1.2074 - val_accuracy: 0.4853\n",
            "Epoch 215/250\n",
            "6/6 [==============================] - 0s 33ms/step - loss: 1.1160 - accuracy: 0.5176 - val_loss: 1.2003 - val_accuracy: 0.4559\n",
            "Epoch 216/250\n",
            "6/6 [==============================] - 0s 30ms/step - loss: 1.1124 - accuracy: 0.4882 - val_loss: 1.1385 - val_accuracy: 0.5049\n",
            "Epoch 217/250\n",
            "6/6 [==============================] - 0s 32ms/step - loss: 1.1140 - accuracy: 0.5147 - val_loss: 1.3448 - val_accuracy: 0.3725\n",
            "Epoch 218/250\n",
            "6/6 [==============================] - 0s 30ms/step - loss: 1.2473 - accuracy: 0.4471 - val_loss: 1.2024 - val_accuracy: 0.4853\n",
            "Epoch 219/250\n",
            "6/6 [==============================] - 0s 32ms/step - loss: 1.1538 - accuracy: 0.4559 - val_loss: 1.3548 - val_accuracy: 0.4363\n",
            "Epoch 220/250\n",
            "6/6 [==============================] - 0s 30ms/step - loss: 1.2024 - accuracy: 0.4765 - val_loss: 1.3582 - val_accuracy: 0.3431\n",
            "Epoch 221/250\n",
            "6/6 [==============================] - 0s 31ms/step - loss: 1.2282 - accuracy: 0.4235 - val_loss: 1.3250 - val_accuracy: 0.3824\n",
            "Epoch 222/250\n",
            "6/6 [==============================] - 0s 30ms/step - loss: 1.1492 - accuracy: 0.4971 - val_loss: 1.2580 - val_accuracy: 0.3971\n",
            "Epoch 223/250\n",
            "6/6 [==============================] - 0s 31ms/step - loss: 1.1804 - accuracy: 0.4794 - val_loss: 1.1735 - val_accuracy: 0.4804\n",
            "Epoch 224/250\n",
            "6/6 [==============================] - 0s 32ms/step - loss: 1.1216 - accuracy: 0.4853 - val_loss: 1.1942 - val_accuracy: 0.4559\n",
            "Epoch 225/250\n",
            "6/6 [==============================] - 0s 30ms/step - loss: 1.1302 - accuracy: 0.4971 - val_loss: 1.1885 - val_accuracy: 0.4706\n",
            "Epoch 226/250\n",
            "6/6 [==============================] - 0s 31ms/step - loss: 1.1264 - accuracy: 0.5176 - val_loss: 1.2149 - val_accuracy: 0.4657\n",
            "Epoch 227/250\n",
            "6/6 [==============================] - 0s 30ms/step - loss: 1.1074 - accuracy: 0.5206 - val_loss: 1.1714 - val_accuracy: 0.4657\n",
            "Epoch 228/250\n",
            "6/6 [==============================] - 0s 29ms/step - loss: 1.1005 - accuracy: 0.4971 - val_loss: 1.1983 - val_accuracy: 0.4755\n",
            "Epoch 229/250\n",
            "6/6 [==============================] - 0s 32ms/step - loss: 1.1899 - accuracy: 0.4588 - val_loss: 1.2930 - val_accuracy: 0.4559\n",
            "Epoch 230/250\n",
            "6/6 [==============================] - 0s 33ms/step - loss: 1.1048 - accuracy: 0.5588 - val_loss: 1.1469 - val_accuracy: 0.4853\n",
            "Epoch 231/250\n",
            "6/6 [==============================] - 0s 30ms/step - loss: 1.0965 - accuracy: 0.5118 - val_loss: 1.1818 - val_accuracy: 0.4559\n",
            "Epoch 232/250\n",
            "6/6 [==============================] - 0s 34ms/step - loss: 1.1009 - accuracy: 0.4971 - val_loss: 1.1817 - val_accuracy: 0.4706\n",
            "Epoch 233/250\n",
            "6/6 [==============================] - 0s 32ms/step - loss: 1.1032 - accuracy: 0.5147 - val_loss: 1.2009 - val_accuracy: 0.4461\n",
            "Epoch 234/250\n",
            "6/6 [==============================] - 0s 31ms/step - loss: 1.1342 - accuracy: 0.5029 - val_loss: 1.1383 - val_accuracy: 0.5000\n",
            "Epoch 235/250\n",
            "6/6 [==============================] - 0s 30ms/step - loss: 1.0956 - accuracy: 0.5500 - val_loss: 1.2032 - val_accuracy: 0.4461\n",
            "Epoch 236/250\n",
            "6/6 [==============================] - 0s 33ms/step - loss: 1.0887 - accuracy: 0.5059 - val_loss: 1.1358 - val_accuracy: 0.5196\n",
            "Epoch 237/250\n",
            "6/6 [==============================] - 0s 31ms/step - loss: 1.0954 - accuracy: 0.5294 - val_loss: 1.1412 - val_accuracy: 0.4951\n",
            "Epoch 238/250\n",
            "6/6 [==============================] - 0s 30ms/step - loss: 1.0900 - accuracy: 0.5176 - val_loss: 1.2848 - val_accuracy: 0.3922\n",
            "Epoch 239/250\n",
            "6/6 [==============================] - 0s 30ms/step - loss: 1.1454 - accuracy: 0.4618 - val_loss: 1.1677 - val_accuracy: 0.4706\n",
            "Epoch 240/250\n",
            "6/6 [==============================] - 0s 32ms/step - loss: 1.1627 - accuracy: 0.5059 - val_loss: 1.1597 - val_accuracy: 0.4804\n",
            "Epoch 241/250\n",
            "6/6 [==============================] - 0s 30ms/step - loss: 1.0997 - accuracy: 0.5294 - val_loss: 1.1821 - val_accuracy: 0.4755\n",
            "Epoch 242/250\n",
            "6/6 [==============================] - 0s 30ms/step - loss: 1.0934 - accuracy: 0.5176 - val_loss: 1.1421 - val_accuracy: 0.5098\n",
            "Epoch 243/250\n",
            "6/6 [==============================] - 0s 31ms/step - loss: 1.1310 - accuracy: 0.5235 - val_loss: 1.2797 - val_accuracy: 0.4020\n",
            "Epoch 244/250\n",
            "6/6 [==============================] - 0s 30ms/step - loss: 1.1585 - accuracy: 0.4471 - val_loss: 1.1938 - val_accuracy: 0.4559\n",
            "Epoch 245/250\n",
            "6/6 [==============================] - 0s 32ms/step - loss: 1.1358 - accuracy: 0.5000 - val_loss: 1.1418 - val_accuracy: 0.4804\n",
            "Epoch 246/250\n",
            "6/6 [==============================] - 0s 32ms/step - loss: 1.1009 - accuracy: 0.5235 - val_loss: 1.1684 - val_accuracy: 0.4657\n",
            "Epoch 247/250\n",
            "6/6 [==============================] - 0s 30ms/step - loss: 1.1112 - accuracy: 0.4824 - val_loss: 1.1468 - val_accuracy: 0.4608\n",
            "Epoch 248/250\n",
            "6/6 [==============================] - 0s 33ms/step - loss: 1.1163 - accuracy: 0.5088 - val_loss: 1.1527 - val_accuracy: 0.4804\n",
            "Epoch 249/250\n",
            "6/6 [==============================] - 0s 32ms/step - loss: 1.0670 - accuracy: 0.5618 - val_loss: 1.1855 - val_accuracy: 0.4951\n",
            "Epoch 250/250\n",
            "6/6 [==============================] - 0s 33ms/step - loss: 1.0876 - accuracy: 0.5500 - val_loss: 1.2568 - val_accuracy: 0.4559\n"
          ]
        }
      ],
      "source": [
        "\n",
        "resnet_model.compile(optimizer='adam',loss = tf.keras.losses.SparseCategoricalCrossentropy(from_logits=True), metrics=['accuracy'])\n",
        "\n",
        "fittedModel = resnet_model.fit(resized_train, TrainLabel1, batch_size = 64, epochs = 250, \n",
        "                        validation_data=(resized_valid, ValidLabel1))\n",
        "                       "
      ]
    },
    {
      "cell_type": "code",
      "execution_count": null,
      "metadata": {
        "colab": {
          "base_uri": "https://localhost:8080/",
          "height": 295
        },
        "id": "g_hybrg_IzDG",
        "outputId": "1d2ab67b-3088-4508-ecf7-7c5f1cab4db8"
      },
      "outputs": [
        {
          "output_type": "display_data",
          "data": {
            "text/plain": [
              "<Figure size 432x288 with 1 Axes>"
            ],
            "image/png": "[encoded data removed]"
          },
          "metadata": {
            "needs_background": "light"
          }
        }
      ],
      "source": [
        "plt.plot(fittedModel.history['accuracy'])\n",
        "plt.plot(fittedModel.history['val_accuracy'])\n",
        "plt.title('model accuracy')\n",
        "plt.ylabel('accuracy')\n",
        "plt.xlabel('epoch')\n",
        "plt.legend(['train', 'val'], loc='upper left')\n",
        "plt.show()"
      ]
    },
    {
      "cell_type": "code",
      "execution_count": null,
      "metadata": {
        "colab": {
          "base_uri": "https://localhost:8080/",
          "height": 295
        },
        "id": "AuYMerO9dZoZ",
        "outputId": "c3b122e7-5d0a-4c80-d34f-3b4d5a88216d"
      },
      "outputs": [
        {
          "output_type": "display_data",
          "data": {
            "text/plain": [
              "<Figure size 432x288 with 1 Axes>"
            ],
            "image/png": "[encoded data removed]"
          },
          "metadata": {
            "needs_background": "light"
          }
        }
      ],
      "source": [
        "plt.plot(fittedModel.history['loss'])\n",
        "plt.plot(fittedModel.history['val_loss'])\n",
        "plt.title('model loss')\n",
        "plt.ylabel('loss')\n",
        "plt.xlabel('epoch')\n",
        "plt.legend(['train', 'val'], loc='upper left')\n",
        "plt.show()"
      ]
    },
    {
      "cell_type": "code",
      "execution_count": null,
      "metadata": {
        "colab": {
          "base_uri": "https://localhost:8080/"
        },
        "id": "n7T353jHEgfu",
        "outputId": "c22a47d8-be1c-4085-e87e-2eaeab6c7dbb"
      },
      "outputs": [
        {
          "output_type": "stream",
          "name": "stdout",
          "text": [
            "0.41341176265478136\n"
          ]
        }
      ],
      "source": [
        "print(np.mean(fittedModel.history['val_accuracy']))"
      ]
    },
    {
      "cell_type": "code",
      "execution_count": null,
      "metadata": {
        "colab": {
          "base_uri": "https://localhost:8080/"
        },
        "id": "v6qlg0WyiRkj",
        "outputId": "ae9f7d09-50a5-45c6-cbe3-e12072815973"
      },
      "outputs": [
        {
          "output_type": "stream",
          "name": "stdout",
          "text": [
            "1/1 [==============================] - 1s 538ms/step - loss: 1.1708 - accuracy: 0.5000\n",
            "(24, 32, 32, 3) (24,)\n"
          ]
        }
      ],
      "source": [
        "resnet_model.evaluate(resized_test, TestLabel1)\n",
        "print(resized_test.shape,TestLabel1.shape)"
      ]
    },
    {
      "cell_type": "code",
      "execution_count": null,
      "metadata": {
        "colab": {
          "base_uri": "https://localhost:8080/"
        },
        "id": "xrFPKtJFC8Zj",
        "outputId": "a7536085-ddc6-4b1f-fe11-0687242ec5ee"
      },
      "outputs": [
        {
          "output_type": "stream",
          "name": "stdout",
          "text": [
            "[0 0 1 1 0 2 0 0 1 0 1 0 1 0 2 2 0 2 2 1 0 0 2 0] 16\n"
          ]
        }
      ],
      "source": [
        "predictions = resnet_model.predict(resized_test)\n",
        "pred_classes = np.argmax(predictions, axis = 1)\n",
        "actual_classes = np.argmax(TestLabel1, axis = 0)\n",
        "print(pred_classes, actual_classes)\n"
      ]
    }
  ],
  "metadata": {
    "accelerator": "GPU",
    "colab": {
      "collapsed_sections": [],
      "provenance": []
    },
    "gpuClass": "standard",
    "kernelspec": {
      "display_name": "Python 3",
      "name": "python3"
    },
    "language_info": {
      "name": "python"
    }
  },
  "nbformat": 4,
  "nbformat_minor": 0
}